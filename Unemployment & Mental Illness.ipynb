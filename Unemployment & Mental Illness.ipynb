{
  "nbformat": 4,
  "nbformat_minor": 0,
  "metadata": {
    "colab": {
      "name": "COGS 109 _ 3rd Draft (unemployment & mental illness).ipynb",
      "provenance": [],
      "collapsed_sections": []
    },
    "kernelspec": {
      "name": "python3",
      "display_name": "Python 3"
    },
    "language_info": {
      "name": "python"
    },
    "widgets": {
      "application/vnd.jupyter.widget-state+json": {
        "0b97d1aa32be4d15b4e1b877579ef349": {
          "model_module": "@jupyter-widgets/controls",
          "model_name": "HBoxModel",
          "state": {
            "_view_name": "HBoxView",
            "_dom_classes": [],
            "_model_name": "HBoxModel",
            "_view_module": "@jupyter-widgets/controls",
            "_model_module_version": "1.5.0",
            "_view_count": null,
            "_view_module_version": "1.5.0",
            "box_style": "",
            "layout": "IPY_MODEL_93dea66aad044427b18c03e7938840e4",
            "_model_module": "@jupyter-widgets/controls",
            "children": [
              "IPY_MODEL_ab7b98acfbb04be4b7c7d566ce9774b3",
              "IPY_MODEL_cbc3f78307fe444bb58c5bbe37b0dd0f"
            ]
          },
          "model_module_version": "1.5.0"
        },
        "93dea66aad044427b18c03e7938840e4": {
          "model_module": "@jupyter-widgets/base",
          "model_name": "LayoutModel",
          "state": {
            "_view_name": "LayoutView",
            "grid_template_rows": null,
            "right": null,
            "justify_content": null,
            "_view_module": "@jupyter-widgets/base",
            "overflow": null,
            "_model_module_version": "1.2.0",
            "_view_count": null,
            "flex_flow": null,
            "width": null,
            "min_width": null,
            "border": null,
            "align_items": null,
            "bottom": null,
            "_model_module": "@jupyter-widgets/base",
            "top": null,
            "grid_column": null,
            "overflow_y": null,
            "overflow_x": null,
            "grid_auto_flow": null,
            "grid_area": null,
            "grid_template_columns": null,
            "flex": null,
            "_model_name": "LayoutModel",
            "justify_items": null,
            "grid_row": null,
            "max_height": null,
            "align_content": null,
            "visibility": null,
            "align_self": null,
            "height": null,
            "min_height": null,
            "padding": null,
            "grid_auto_rows": null,
            "grid_gap": null,
            "max_width": null,
            "order": null,
            "_view_module_version": "1.2.0",
            "grid_template_areas": null,
            "object_position": null,
            "object_fit": null,
            "grid_auto_columns": null,
            "margin": null,
            "display": null,
            "left": null
          },
          "model_module_version": "1.2.0"
        },
        "ab7b98acfbb04be4b7c7d566ce9774b3": {
          "model_module": "@jupyter-widgets/controls",
          "model_name": "FloatProgressModel",
          "state": {
            "_view_name": "ProgressView",
            "style": "IPY_MODEL_daee5a59ea2546c5a0e869af462b38b2",
            "_dom_classes": [],
            "description": "Loop...: 100%",
            "_model_name": "FloatProgressModel",
            "bar_style": "success",
            "max": 8,
            "_view_module": "@jupyter-widgets/controls",
            "_model_module_version": "1.5.0",
            "value": 8,
            "_view_count": null,
            "_view_module_version": "1.5.0",
            "orientation": "horizontal",
            "min": 0,
            "description_tooltip": null,
            "_model_module": "@jupyter-widgets/controls",
            "layout": "IPY_MODEL_a53098176e22428eb151ef21def77a30"
          },
          "model_module_version": "1.5.0"
        },
        "cbc3f78307fe444bb58c5bbe37b0dd0f": {
          "model_module": "@jupyter-widgets/controls",
          "model_name": "HTMLModel",
          "state": {
            "_view_name": "HTMLView",
            "style": "IPY_MODEL_eb0134a61210465ea239f217df8de611",
            "_dom_classes": [],
            "description": "",
            "_model_name": "HTMLModel",
            "placeholder": "​",
            "_view_module": "@jupyter-widgets/controls",
            "_model_module_version": "1.5.0",
            "value": " 8/8 [00:01&lt;00:00,  5.78it/s]",
            "_view_count": null,
            "_view_module_version": "1.5.0",
            "description_tooltip": null,
            "_model_module": "@jupyter-widgets/controls",
            "layout": "IPY_MODEL_8ad0b29384d4440695104aa346d88760"
          },
          "model_module_version": "1.5.0"
        },
        "daee5a59ea2546c5a0e869af462b38b2": {
          "model_module": "@jupyter-widgets/controls",
          "model_name": "ProgressStyleModel",
          "state": {
            "_view_name": "StyleView",
            "_model_name": "ProgressStyleModel",
            "description_width": "initial",
            "_view_module": "@jupyter-widgets/base",
            "_model_module_version": "1.5.0",
            "_view_count": null,
            "_view_module_version": "1.2.0",
            "bar_color": null,
            "_model_module": "@jupyter-widgets/controls"
          },
          "model_module_version": "1.5.0"
        },
        "a53098176e22428eb151ef21def77a30": {
          "model_module": "@jupyter-widgets/base",
          "model_name": "LayoutModel",
          "state": {
            "_view_name": "LayoutView",
            "grid_template_rows": null,
            "right": null,
            "justify_content": null,
            "_view_module": "@jupyter-widgets/base",
            "overflow": null,
            "_model_module_version": "1.2.0",
            "_view_count": null,
            "flex_flow": null,
            "width": null,
            "min_width": null,
            "border": null,
            "align_items": null,
            "bottom": null,
            "_model_module": "@jupyter-widgets/base",
            "top": null,
            "grid_column": null,
            "overflow_y": null,
            "overflow_x": null,
            "grid_auto_flow": null,
            "grid_area": null,
            "grid_template_columns": null,
            "flex": null,
            "_model_name": "LayoutModel",
            "justify_items": null,
            "grid_row": null,
            "max_height": null,
            "align_content": null,
            "visibility": null,
            "align_self": null,
            "height": null,
            "min_height": null,
            "padding": null,
            "grid_auto_rows": null,
            "grid_gap": null,
            "max_width": null,
            "order": null,
            "_view_module_version": "1.2.0",
            "grid_template_areas": null,
            "object_position": null,
            "object_fit": null,
            "grid_auto_columns": null,
            "margin": null,
            "display": null,
            "left": null
          },
          "model_module_version": "1.2.0"
        },
        "eb0134a61210465ea239f217df8de611": {
          "model_module": "@jupyter-widgets/controls",
          "model_name": "DescriptionStyleModel",
          "state": {
            "_view_name": "StyleView",
            "_model_name": "DescriptionStyleModel",
            "description_width": "",
            "_view_module": "@jupyter-widgets/base",
            "_model_module_version": "1.5.0",
            "_view_count": null,
            "_view_module_version": "1.2.0",
            "_model_module": "@jupyter-widgets/controls"
          },
          "model_module_version": "1.5.0"
        },
        "8ad0b29384d4440695104aa346d88760": {
          "model_module": "@jupyter-widgets/base",
          "model_name": "LayoutModel",
          "state": {
            "_view_name": "LayoutView",
            "grid_template_rows": null,
            "right": null,
            "justify_content": null,
            "_view_module": "@jupyter-widgets/base",
            "overflow": null,
            "_model_module_version": "1.2.0",
            "_view_count": null,
            "flex_flow": null,
            "width": null,
            "min_width": null,
            "border": null,
            "align_items": null,
            "bottom": null,
            "_model_module": "@jupyter-widgets/base",
            "top": null,
            "grid_column": null,
            "overflow_y": null,
            "overflow_x": null,
            "grid_auto_flow": null,
            "grid_area": null,
            "grid_template_columns": null,
            "flex": null,
            "_model_name": "LayoutModel",
            "justify_items": null,
            "grid_row": null,
            "max_height": null,
            "align_content": null,
            "visibility": null,
            "align_self": null,
            "height": null,
            "min_height": null,
            "padding": null,
            "grid_auto_rows": null,
            "grid_gap": null,
            "max_width": null,
            "order": null,
            "_view_module_version": "1.2.0",
            "grid_template_areas": null,
            "object_position": null,
            "object_fit": null,
            "grid_auto_columns": null,
            "margin": null,
            "display": null,
            "left": null
          },
          "model_module_version": "1.2.0"
        }
      }
    }
  },
  "cells": [
    {
      "cell_type": "markdown",
      "metadata": {
        "id": "Lx5ux31e7uus"
      },
      "source": [
        "# COGS 109 CODE (GROUP 1)"
      ]
    },
    {
      "cell_type": "markdown",
      "metadata": {
        "id": "TAc6cZbV795T"
      },
      "source": [
        "import the necessary libaries"
      ]
    },
    {
      "cell_type": "code",
      "metadata": {
        "id": "Wz2rlv168w6I"
      },
      "source": [
        "# Importing libraries\n",
        "import pandas as pd\n",
        "import numpy as np\n",
        "from sklearn.model_selection import train_test_split\n",
        "from sklearn.linear_model import LogisticRegression\n",
        "from sklearn import metrics\n",
        "import seaborn as sns\n",
        "from sklearn import metrics\n",
        "import matplotlib.pyplot as plt\n",
        "from statsmodels.formula.api import ols\n",
        "import statsmodels.api as sm\n",
        "import statsmodels.formula.api as smf\n",
        "import collections"
      ],
      "execution_count": null,
      "outputs": []
    },
    {
      "cell_type": "markdown",
      "metadata": {
        "id": "LoSsxEQ3mW0V"
      },
      "source": [
        "upload the data and preprocess it \n",
        "- rename a few columnns\n",
        "- check if duplicates exist\n",
        "- rid of NaNs\n",
        "also check on statistics of the data\n",
        "- df.shape allows us to see number of columns and rows\n",
        "- check the count for ages and gender\n",
        "- check how many total participants after dropping NaNs\n",
        "- check how many have mental illness in this dataset"
      ]
    },
    {
      "cell_type": "code",
      "metadata": {
        "colab": {
          "resources": {
            "http://localhost:8080/nbextensions/google.colab/files.js": {
              "data": "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",
              "ok": true,
              "headers": [
                [
                  "content-type",
                  "application/javascript"
                ]
              ],
              "status": 200,
              "status_text": ""
            }
          },
          "base_uri": "https://localhost:8080/",
          "height": 72
        },
        "id": "v1zKQ8qAeXWc",
        "outputId": "0e0c55d3-e380-4a95-ee15-d6772dc2c80a"
      },
      "source": [
        "# Upload excel file \n",
        "from google.colab import files\n",
        "uploaded = files.upload()"
      ],
      "execution_count": null,
      "outputs": [
        {
          "output_type": "display_data",
          "data": {
            "text/html": [
              "\n",
              "     <input type=\"file\" id=\"files-21bb5349-7d70-46b0-8dc9-f29c0ff14d8a\" name=\"files[]\" multiple disabled\n",
              "        style=\"border:none\" />\n",
              "     <output id=\"result-21bb5349-7d70-46b0-8dc9-f29c0ff14d8a\">\n",
              "      Upload widget is only available when the cell has been executed in the\n",
              "      current browser session. Please rerun this cell to enable.\n",
              "      </output>\n",
              "      <script src=\"/nbextensions/google.colab/files.js\"></script> "
            ],
            "text/plain": [
              "<IPython.core.display.HTML object>"
            ]
          },
          "metadata": {
            "tags": []
          }
        },
        {
          "output_type": "stream",
          "text": [
            "Saving Cleaned Data.xlsx to Cleaned Data (2).xlsx\n"
          ],
          "name": "stdout"
        }
      ]
    },
    {
      "cell_type": "code",
      "metadata": {
        "id": "9SOT6Pg1egx0",
        "colab": {
          "base_uri": "https://localhost:8080/",
          "height": 496
        },
        "outputId": "ea2c4396-b6d3-4bf0-e9b1-c019dec15a0d"
      },
      "source": [
        "# Read in the excel file\n",
        "import io\n",
        "df = pd.read_excel(io.BytesIO(uploaded['Cleaned Data.xlsx']))\n",
        "df.head()"
      ],
      "execution_count": null,
      "outputs": [
        {
          "output_type": "execute_result",
          "data": {
            "text/html": [
              "<div>\n",
              "<style scoped>\n",
              "    .dataframe tbody tr th:only-of-type {\n",
              "        vertical-align: middle;\n",
              "    }\n",
              "\n",
              "    .dataframe tbody tr th {\n",
              "        vertical-align: top;\n",
              "    }\n",
              "\n",
              "    .dataframe thead th {\n",
              "        text-align: right;\n",
              "    }\n",
              "</style>\n",
              "<table border=\"1\" class=\"dataframe\">\n",
              "  <thead>\n",
              "    <tr style=\"text-align: right;\">\n",
              "      <th></th>\n",
              "      <th>I am currently employed at least part-time</th>\n",
              "      <th>I identify as having a mental illness</th>\n",
              "      <th>Education</th>\n",
              "      <th>I have my own computer separate from a smart phone</th>\n",
              "      <th>I have been hospitalized before for my mental illness</th>\n",
              "      <th>How many days were you hospitalized for your mental illness</th>\n",
              "      <th>I am legally disabled</th>\n",
              "      <th>I have my regular access to the internet</th>\n",
              "      <th>I live with my parents</th>\n",
              "      <th>I have a gap in my resume</th>\n",
              "      <th>Total length of any gaps in my resume in months.</th>\n",
              "      <th>Annual income (including any social welfare programs) in USD</th>\n",
              "      <th>I am unemployed</th>\n",
              "      <th>I read outside of work and school</th>\n",
              "      <th>Annual income from social welfare programs</th>\n",
              "      <th>I receive food stamps</th>\n",
              "      <th>I am on section 8 housing</th>\n",
              "      <th>How many times were you hospitalized for your mental illness</th>\n",
              "      <th>Lack of concentration</th>\n",
              "      <th>Anxiety</th>\n",
              "      <th>Depression</th>\n",
              "      <th>Obsessive thinking</th>\n",
              "      <th>Mood swings</th>\n",
              "      <th>Panic attacks</th>\n",
              "      <th>Compulsive behavior</th>\n",
              "      <th>Tiredness</th>\n",
              "      <th>Age</th>\n",
              "      <th>Gender</th>\n",
              "      <th>Household Income</th>\n",
              "      <th>Region</th>\n",
              "      <th>Device Type</th>\n",
              "    </tr>\n",
              "  </thead>\n",
              "  <tbody>\n",
              "    <tr>\n",
              "      <th>0</th>\n",
              "      <td>0</td>\n",
              "      <td>0</td>\n",
              "      <td>High School or GED</td>\n",
              "      <td>0</td>\n",
              "      <td>0</td>\n",
              "      <td>0.0</td>\n",
              "      <td>0</td>\n",
              "      <td>1</td>\n",
              "      <td>0</td>\n",
              "      <td>1</td>\n",
              "      <td>24</td>\n",
              "      <td>35</td>\n",
              "      <td>1</td>\n",
              "      <td>1</td>\n",
              "      <td>0</td>\n",
              "      <td>0</td>\n",
              "      <td>0</td>\n",
              "      <td>0</td>\n",
              "      <td>1.0</td>\n",
              "      <td>1</td>\n",
              "      <td>1</td>\n",
              "      <td>1.0</td>\n",
              "      <td>0.0</td>\n",
              "      <td>1.0</td>\n",
              "      <td>0.0</td>\n",
              "      <td>0.0</td>\n",
              "      <td>30-44</td>\n",
              "      <td>Male</td>\n",
              "      <td>$25,000-$49,999</td>\n",
              "      <td>Mountain</td>\n",
              "      <td>Android Phone / Tablet</td>\n",
              "    </tr>\n",
              "    <tr>\n",
              "      <th>1</th>\n",
              "      <td>1</td>\n",
              "      <td>1</td>\n",
              "      <td>Some Phd</td>\n",
              "      <td>1</td>\n",
              "      <td>0</td>\n",
              "      <td>0.0</td>\n",
              "      <td>0</td>\n",
              "      <td>1</td>\n",
              "      <td>0</td>\n",
              "      <td>0</td>\n",
              "      <td>1</td>\n",
              "      <td>22</td>\n",
              "      <td>0</td>\n",
              "      <td>1</td>\n",
              "      <td>0</td>\n",
              "      <td>0</td>\n",
              "      <td>0</td>\n",
              "      <td>0</td>\n",
              "      <td>1.0</td>\n",
              "      <td>1</td>\n",
              "      <td>1</td>\n",
              "      <td>0.0</td>\n",
              "      <td>0.0</td>\n",
              "      <td>1.0</td>\n",
              "      <td>0.0</td>\n",
              "      <td>1.0</td>\n",
              "      <td>18-29</td>\n",
              "      <td>Male</td>\n",
              "      <td>$50,000-$74,999</td>\n",
              "      <td>East South Central</td>\n",
              "      <td>MacOS Desktop / Laptop</td>\n",
              "    </tr>\n",
              "    <tr>\n",
              "      <th>2</th>\n",
              "      <td>1</td>\n",
              "      <td>0</td>\n",
              "      <td>Completed Undergraduate</td>\n",
              "      <td>1</td>\n",
              "      <td>0</td>\n",
              "      <td>0.0</td>\n",
              "      <td>0</td>\n",
              "      <td>1</td>\n",
              "      <td>0</td>\n",
              "      <td>0</td>\n",
              "      <td>0</td>\n",
              "      <td>100</td>\n",
              "      <td>0</td>\n",
              "      <td>1</td>\n",
              "      <td>0</td>\n",
              "      <td>0</td>\n",
              "      <td>0</td>\n",
              "      <td>0</td>\n",
              "      <td>0.0</td>\n",
              "      <td>0</td>\n",
              "      <td>0</td>\n",
              "      <td>0.0</td>\n",
              "      <td>0.0</td>\n",
              "      <td>0.0</td>\n",
              "      <td>0.0</td>\n",
              "      <td>0.0</td>\n",
              "      <td>30-44</td>\n",
              "      <td>Male</td>\n",
              "      <td>$150,000-$174,999</td>\n",
              "      <td>Pacific</td>\n",
              "      <td>MacOS Desktop / Laptop</td>\n",
              "    </tr>\n",
              "    <tr>\n",
              "      <th>3</th>\n",
              "      <td>0</td>\n",
              "      <td>0</td>\n",
              "      <td>Some Undergraduate</td>\n",
              "      <td>1</td>\n",
              "      <td>0</td>\n",
              "      <td>NaN</td>\n",
              "      <td>0</td>\n",
              "      <td>1</td>\n",
              "      <td>1</td>\n",
              "      <td>1</td>\n",
              "      <td>11</td>\n",
              "      <td>0</td>\n",
              "      <td>1</td>\n",
              "      <td>1</td>\n",
              "      <td>0</td>\n",
              "      <td>0</td>\n",
              "      <td>0</td>\n",
              "      <td>0</td>\n",
              "      <td>0.0</td>\n",
              "      <td>0</td>\n",
              "      <td>0</td>\n",
              "      <td>0.0</td>\n",
              "      <td>0.0</td>\n",
              "      <td>0.0</td>\n",
              "      <td>0.0</td>\n",
              "      <td>0.0</td>\n",
              "      <td>30-44</td>\n",
              "      <td>Male</td>\n",
              "      <td>$25,000-$49,999</td>\n",
              "      <td>New England</td>\n",
              "      <td>Windows Desktop / Laptop</td>\n",
              "    </tr>\n",
              "    <tr>\n",
              "      <th>4</th>\n",
              "      <td>1</td>\n",
              "      <td>1</td>\n",
              "      <td>Completed Undergraduate</td>\n",
              "      <td>1</td>\n",
              "      <td>1</td>\n",
              "      <td>35.0</td>\n",
              "      <td>1</td>\n",
              "      <td>1</td>\n",
              "      <td>0</td>\n",
              "      <td>1</td>\n",
              "      <td>33</td>\n",
              "      <td>32</td>\n",
              "      <td>0</td>\n",
              "      <td>1</td>\n",
              "      <td>30</td>\n",
              "      <td>0</td>\n",
              "      <td>0</td>\n",
              "      <td>4</td>\n",
              "      <td>1.0</td>\n",
              "      <td>1</td>\n",
              "      <td>1</td>\n",
              "      <td>1.0</td>\n",
              "      <td>1.0</td>\n",
              "      <td>1.0</td>\n",
              "      <td>1.0</td>\n",
              "      <td>1.0</td>\n",
              "      <td>30-44</td>\n",
              "      <td>Male</td>\n",
              "      <td>$25,000-$49,999</td>\n",
              "      <td>East North Central</td>\n",
              "      <td>iOS Phone / Tablet</td>\n",
              "    </tr>\n",
              "  </tbody>\n",
              "</table>\n",
              "</div>"
            ],
            "text/plain": [
              "   I am currently employed at least part-time  ...               Device Type\n",
              "0                                           0  ...    Android Phone / Tablet\n",
              "1                                           1  ...    MacOS Desktop / Laptop\n",
              "2                                           1  ...    MacOS Desktop / Laptop\n",
              "3                                           0  ...  Windows Desktop / Laptop\n",
              "4                                           1  ...        iOS Phone / Tablet\n",
              "\n",
              "[5 rows x 31 columns]"
            ]
          },
          "metadata": {
            "tags": []
          },
          "execution_count": 94
        }
      ]
    },
    {
      "cell_type": "code",
      "metadata": {
        "id": "bLHkNaiW4_Zc"
      },
      "source": [
        "# Reading in the data from the excel file \n",
        "df = pd.read_excel('Cleaned Data.xlsx')"
      ],
      "execution_count": null,
      "outputs": []
    },
    {
      "cell_type": "code",
      "metadata": {
        "id": "DuSyddu1zMPM"
      },
      "source": [
        "# Renaming columns\n",
        "df.rename(columns = {'I am currently employed at least part-time' : 'Employed', 'I identify as having a mental illness' : 'Mental_Illness', 'Lack of concentration' : 'LackofConcentration', 'Obsessive thinking' : 'Obsessive_Thinking', 'Mood swings' : 'Mood_Swings', 'Panic attacks' : 'Panic_Attacks', 'Compulsive behavior' : 'Compulsive_Behavior'}, inplace = True)"
      ],
      "execution_count": null,
      "outputs": []
    },
    {
      "cell_type": "code",
      "metadata": {
        "id": "ajWZlZOrzbnB",
        "colab": {
          "base_uri": "https://localhost:8080/",
          "height": 496
        },
        "outputId": "8f2c804d-6c85-4f86-e9b6-31daa9bac634"
      },
      "source": [
        "# df.columns\n",
        "df.head()"
      ],
      "execution_count": null,
      "outputs": [
        {
          "output_type": "execute_result",
          "data": {
            "text/html": [
              "<div>\n",
              "<style scoped>\n",
              "    .dataframe tbody tr th:only-of-type {\n",
              "        vertical-align: middle;\n",
              "    }\n",
              "\n",
              "    .dataframe tbody tr th {\n",
              "        vertical-align: top;\n",
              "    }\n",
              "\n",
              "    .dataframe thead th {\n",
              "        text-align: right;\n",
              "    }\n",
              "</style>\n",
              "<table border=\"1\" class=\"dataframe\">\n",
              "  <thead>\n",
              "    <tr style=\"text-align: right;\">\n",
              "      <th></th>\n",
              "      <th>Employed</th>\n",
              "      <th>Mental_Illness</th>\n",
              "      <th>Education</th>\n",
              "      <th>I have my own computer separate from a smart phone</th>\n",
              "      <th>I have been hospitalized before for my mental illness</th>\n",
              "      <th>How many days were you hospitalized for your mental illness</th>\n",
              "      <th>I am legally disabled</th>\n",
              "      <th>I have my regular access to the internet</th>\n",
              "      <th>I live with my parents</th>\n",
              "      <th>I have a gap in my resume</th>\n",
              "      <th>Total length of any gaps in my resume in months.</th>\n",
              "      <th>Annual income (including any social welfare programs) in USD</th>\n",
              "      <th>I am unemployed</th>\n",
              "      <th>I read outside of work and school</th>\n",
              "      <th>Annual income from social welfare programs</th>\n",
              "      <th>I receive food stamps</th>\n",
              "      <th>I am on section 8 housing</th>\n",
              "      <th>How many times were you hospitalized for your mental illness</th>\n",
              "      <th>LackofConcentration</th>\n",
              "      <th>Anxiety</th>\n",
              "      <th>Depression</th>\n",
              "      <th>Obsessive_Thinking</th>\n",
              "      <th>Mood_Swings</th>\n",
              "      <th>Panic_Attacks</th>\n",
              "      <th>Compulsive_Behavior</th>\n",
              "      <th>Tiredness</th>\n",
              "      <th>Age</th>\n",
              "      <th>Gender</th>\n",
              "      <th>Household Income</th>\n",
              "      <th>Region</th>\n",
              "      <th>Device Type</th>\n",
              "    </tr>\n",
              "  </thead>\n",
              "  <tbody>\n",
              "    <tr>\n",
              "      <th>0</th>\n",
              "      <td>0</td>\n",
              "      <td>0</td>\n",
              "      <td>High School or GED</td>\n",
              "      <td>0</td>\n",
              "      <td>0</td>\n",
              "      <td>0.0</td>\n",
              "      <td>0</td>\n",
              "      <td>1</td>\n",
              "      <td>0</td>\n",
              "      <td>1</td>\n",
              "      <td>24</td>\n",
              "      <td>35</td>\n",
              "      <td>1</td>\n",
              "      <td>1</td>\n",
              "      <td>0</td>\n",
              "      <td>0</td>\n",
              "      <td>0</td>\n",
              "      <td>0</td>\n",
              "      <td>1.0</td>\n",
              "      <td>1</td>\n",
              "      <td>1</td>\n",
              "      <td>1.0</td>\n",
              "      <td>0.0</td>\n",
              "      <td>1.0</td>\n",
              "      <td>0.0</td>\n",
              "      <td>0.0</td>\n",
              "      <td>30-44</td>\n",
              "      <td>Male</td>\n",
              "      <td>$25,000-$49,999</td>\n",
              "      <td>Mountain</td>\n",
              "      <td>Android Phone / Tablet</td>\n",
              "    </tr>\n",
              "    <tr>\n",
              "      <th>1</th>\n",
              "      <td>1</td>\n",
              "      <td>1</td>\n",
              "      <td>Some Phd</td>\n",
              "      <td>1</td>\n",
              "      <td>0</td>\n",
              "      <td>0.0</td>\n",
              "      <td>0</td>\n",
              "      <td>1</td>\n",
              "      <td>0</td>\n",
              "      <td>0</td>\n",
              "      <td>1</td>\n",
              "      <td>22</td>\n",
              "      <td>0</td>\n",
              "      <td>1</td>\n",
              "      <td>0</td>\n",
              "      <td>0</td>\n",
              "      <td>0</td>\n",
              "      <td>0</td>\n",
              "      <td>1.0</td>\n",
              "      <td>1</td>\n",
              "      <td>1</td>\n",
              "      <td>0.0</td>\n",
              "      <td>0.0</td>\n",
              "      <td>1.0</td>\n",
              "      <td>0.0</td>\n",
              "      <td>1.0</td>\n",
              "      <td>18-29</td>\n",
              "      <td>Male</td>\n",
              "      <td>$50,000-$74,999</td>\n",
              "      <td>East South Central</td>\n",
              "      <td>MacOS Desktop / Laptop</td>\n",
              "    </tr>\n",
              "    <tr>\n",
              "      <th>2</th>\n",
              "      <td>1</td>\n",
              "      <td>0</td>\n",
              "      <td>Completed Undergraduate</td>\n",
              "      <td>1</td>\n",
              "      <td>0</td>\n",
              "      <td>0.0</td>\n",
              "      <td>0</td>\n",
              "      <td>1</td>\n",
              "      <td>0</td>\n",
              "      <td>0</td>\n",
              "      <td>0</td>\n",
              "      <td>100</td>\n",
              "      <td>0</td>\n",
              "      <td>1</td>\n",
              "      <td>0</td>\n",
              "      <td>0</td>\n",
              "      <td>0</td>\n",
              "      <td>0</td>\n",
              "      <td>0.0</td>\n",
              "      <td>0</td>\n",
              "      <td>0</td>\n",
              "      <td>0.0</td>\n",
              "      <td>0.0</td>\n",
              "      <td>0.0</td>\n",
              "      <td>0.0</td>\n",
              "      <td>0.0</td>\n",
              "      <td>30-44</td>\n",
              "      <td>Male</td>\n",
              "      <td>$150,000-$174,999</td>\n",
              "      <td>Pacific</td>\n",
              "      <td>MacOS Desktop / Laptop</td>\n",
              "    </tr>\n",
              "    <tr>\n",
              "      <th>3</th>\n",
              "      <td>0</td>\n",
              "      <td>0</td>\n",
              "      <td>Some Undergraduate</td>\n",
              "      <td>1</td>\n",
              "      <td>0</td>\n",
              "      <td>NaN</td>\n",
              "      <td>0</td>\n",
              "      <td>1</td>\n",
              "      <td>1</td>\n",
              "      <td>1</td>\n",
              "      <td>11</td>\n",
              "      <td>0</td>\n",
              "      <td>1</td>\n",
              "      <td>1</td>\n",
              "      <td>0</td>\n",
              "      <td>0</td>\n",
              "      <td>0</td>\n",
              "      <td>0</td>\n",
              "      <td>0.0</td>\n",
              "      <td>0</td>\n",
              "      <td>0</td>\n",
              "      <td>0.0</td>\n",
              "      <td>0.0</td>\n",
              "      <td>0.0</td>\n",
              "      <td>0.0</td>\n",
              "      <td>0.0</td>\n",
              "      <td>30-44</td>\n",
              "      <td>Male</td>\n",
              "      <td>$25,000-$49,999</td>\n",
              "      <td>New England</td>\n",
              "      <td>Windows Desktop / Laptop</td>\n",
              "    </tr>\n",
              "    <tr>\n",
              "      <th>4</th>\n",
              "      <td>1</td>\n",
              "      <td>1</td>\n",
              "      <td>Completed Undergraduate</td>\n",
              "      <td>1</td>\n",
              "      <td>1</td>\n",
              "      <td>35.0</td>\n",
              "      <td>1</td>\n",
              "      <td>1</td>\n",
              "      <td>0</td>\n",
              "      <td>1</td>\n",
              "      <td>33</td>\n",
              "      <td>32</td>\n",
              "      <td>0</td>\n",
              "      <td>1</td>\n",
              "      <td>30</td>\n",
              "      <td>0</td>\n",
              "      <td>0</td>\n",
              "      <td>4</td>\n",
              "      <td>1.0</td>\n",
              "      <td>1</td>\n",
              "      <td>1</td>\n",
              "      <td>1.0</td>\n",
              "      <td>1.0</td>\n",
              "      <td>1.0</td>\n",
              "      <td>1.0</td>\n",
              "      <td>1.0</td>\n",
              "      <td>30-44</td>\n",
              "      <td>Male</td>\n",
              "      <td>$25,000-$49,999</td>\n",
              "      <td>East North Central</td>\n",
              "      <td>iOS Phone / Tablet</td>\n",
              "    </tr>\n",
              "  </tbody>\n",
              "</table>\n",
              "</div>"
            ],
            "text/plain": [
              "   Employed  Mental_Illness  ...              Region               Device Type\n",
              "0         0               0  ...            Mountain    Android Phone / Tablet\n",
              "1         1               1  ...  East South Central    MacOS Desktop / Laptop\n",
              "2         1               0  ...             Pacific    MacOS Desktop / Laptop\n",
              "3         0               0  ...         New England  Windows Desktop / Laptop\n",
              "4         1               1  ...  East North Central        iOS Phone / Tablet\n",
              "\n",
              "[5 rows x 31 columns]"
            ]
          },
          "metadata": {
            "tags": []
          },
          "execution_count": 97
        }
      ]
    },
    {
      "cell_type": "code",
      "metadata": {
        "id": "1-jIHRuCrGYC",
        "colab": {
          "base_uri": "https://localhost:8080/"
        },
        "outputId": "f2c98cf3-ffd1-4e1c-a83b-565b096fc1ad"
      },
      "source": [
        "# Take care of duplicate data \n",
        "any(df.duplicated())\n",
        "# Yay, no duplicates"
      ],
      "execution_count": null,
      "outputs": [
        {
          "output_type": "execute_result",
          "data": {
            "text/plain": [
              "False"
            ]
          },
          "metadata": {
            "tags": []
          },
          "execution_count": 98
        }
      ]
    },
    {
      "cell_type": "code",
      "metadata": {
        "id": "oghYUNyWr3f4",
        "colab": {
          "base_uri": "https://localhost:8080/",
          "height": 542
        },
        "outputId": "e718fd8c-6728-490d-a7c6-a6340db6f6b9"
      },
      "source": [
        "# Checking for null values\n",
        "sns.heatmap(df.isnull(),cmap=['Green', 'Red']) # added a cmap to make it clearer"
      ],
      "execution_count": null,
      "outputs": [
        {
          "output_type": "execute_result",
          "data": {
            "text/plain": [
              "<matplotlib.axes._subplots.AxesSubplot at 0x7f16d2331b90>"
            ]
          },
          "metadata": {
            "tags": []
          },
          "execution_count": 99
        },
        {
          "output_type": "display_data",
          "data": {
            "image/png": "[encoded data removed]",
            "text/plain": [
              "<Figure size 432x288 with 2 Axes>"
            ]
          },
          "metadata": {
            "tags": []
          }
        }
      ]
    },
    {
      "cell_type": "code",
      "metadata": {
        "id": "zVbPRy-Sr-e-"
      },
      "source": [
        "# Removing null values\n",
        "df = df.dropna() # dropna will take care of those pesky nans!"
      ],
      "execution_count": null,
      "outputs": []
    },
    {
      "cell_type": "code",
      "metadata": {
        "id": "CceciUwIsB9J",
        "colab": {
          "base_uri": "https://localhost:8080/",
          "height": 542
        },
        "outputId": "9344d755-3bed-4a01-933d-be69f362c6e5"
      },
      "source": [
        "# Making sure there are no more null values \n",
        "sns.heatmap(df.isnull(),cmap=['Green','Green','Red']) "
      ],
      "execution_count": null,
      "outputs": [
        {
          "output_type": "execute_result",
          "data": {
            "text/plain": [
              "<matplotlib.axes._subplots.AxesSubplot at 0x7f16d04286d0>"
            ]
          },
          "metadata": {
            "tags": []
          },
          "execution_count": 101
        },
        {
          "output_type": "display_data",
          "data": {
            "image/png": "[encoded data removed]",
            "text/plain": [
              "<Figure size 432x288 with 2 Axes>"
            ]
          },
          "metadata": {
            "tags": []
          }
        }
      ]
    },
    {
      "cell_type": "code",
      "metadata": {
        "id": "T-2Ej44RsE5n",
        "colab": {
          "base_uri": "https://localhost:8080/"
        },
        "outputId": "c979dfcc-d944-4db0-c26f-7edcd83f5793"
      },
      "source": [
        "df.shape\n",
        "# Make a note on loss participants due to cleaning data"
      ],
      "execution_count": null,
      "outputs": [
        {
          "output_type": "execute_result",
          "data": {
            "text/plain": [
              "(294, 31)"
            ]
          },
          "metadata": {
            "tags": []
          },
          "execution_count": 102
        }
      ]
    },
    {
      "cell_type": "code",
      "metadata": {
        "id": "y3vfRVMNxZsf",
        "colab": {
          "base_uri": "https://localhost:8080/",
          "height": 264
        },
        "outputId": "03df603a-c1ea-4848-88f7-883316776100"
      },
      "source": [
        "# Count the participants of female vs male (demographic count)\n",
        "df.groupby('Gender').count()"
      ],
      "execution_count": null,
      "outputs": [
        {
          "output_type": "execute_result",
          "data": {
            "text/html": [
              "<div>\n",
              "<style scoped>\n",
              "    .dataframe tbody tr th:only-of-type {\n",
              "        vertical-align: middle;\n",
              "    }\n",
              "\n",
              "    .dataframe tbody tr th {\n",
              "        vertical-align: top;\n",
              "    }\n",
              "\n",
              "    .dataframe thead th {\n",
              "        text-align: right;\n",
              "    }\n",
              "</style>\n",
              "<table border=\"1\" class=\"dataframe\">\n",
              "  <thead>\n",
              "    <tr style=\"text-align: right;\">\n",
              "      <th></th>\n",
              "      <th>Employed</th>\n",
              "      <th>Mental_Illness</th>\n",
              "      <th>Education</th>\n",
              "      <th>I have my own computer separate from a smart phone</th>\n",
              "      <th>I have been hospitalized before for my mental illness</th>\n",
              "      <th>How many days were you hospitalized for your mental illness</th>\n",
              "      <th>I am legally disabled</th>\n",
              "      <th>I have my regular access to the internet</th>\n",
              "      <th>I live with my parents</th>\n",
              "      <th>I have a gap in my resume</th>\n",
              "      <th>Total length of any gaps in my resume in months.</th>\n",
              "      <th>Annual income (including any social welfare programs) in USD</th>\n",
              "      <th>I am unemployed</th>\n",
              "      <th>I read outside of work and school</th>\n",
              "      <th>Annual income from social welfare programs</th>\n",
              "      <th>I receive food stamps</th>\n",
              "      <th>I am on section 8 housing</th>\n",
              "      <th>How many times were you hospitalized for your mental illness</th>\n",
              "      <th>LackofConcentration</th>\n",
              "      <th>Anxiety</th>\n",
              "      <th>Depression</th>\n",
              "      <th>Obsessive_Thinking</th>\n",
              "      <th>Mood_Swings</th>\n",
              "      <th>Panic_Attacks</th>\n",
              "      <th>Compulsive_Behavior</th>\n",
              "      <th>Tiredness</th>\n",
              "      <th>Age</th>\n",
              "      <th>Household Income</th>\n",
              "      <th>Region</th>\n",
              "      <th>Device Type</th>\n",
              "    </tr>\n",
              "    <tr>\n",
              "      <th>Gender</th>\n",
              "      <th></th>\n",
              "      <th></th>\n",
              "      <th></th>\n",
              "      <th></th>\n",
              "      <th></th>\n",
              "      <th></th>\n",
              "      <th></th>\n",
              "      <th></th>\n",
              "      <th></th>\n",
              "      <th></th>\n",
              "      <th></th>\n",
              "      <th></th>\n",
              "      <th></th>\n",
              "      <th></th>\n",
              "      <th></th>\n",
              "      <th></th>\n",
              "      <th></th>\n",
              "      <th></th>\n",
              "      <th></th>\n",
              "      <th></th>\n",
              "      <th></th>\n",
              "      <th></th>\n",
              "      <th></th>\n",
              "      <th></th>\n",
              "      <th></th>\n",
              "      <th></th>\n",
              "      <th></th>\n",
              "      <th></th>\n",
              "      <th></th>\n",
              "      <th></th>\n",
              "    </tr>\n",
              "  </thead>\n",
              "  <tbody>\n",
              "    <tr>\n",
              "      <th>Female</th>\n",
              "      <td>152</td>\n",
              "      <td>152</td>\n",
              "      <td>152</td>\n",
              "      <td>152</td>\n",
              "      <td>152</td>\n",
              "      <td>152</td>\n",
              "      <td>152</td>\n",
              "      <td>152</td>\n",
              "      <td>152</td>\n",
              "      <td>152</td>\n",
              "      <td>152</td>\n",
              "      <td>152</td>\n",
              "      <td>152</td>\n",
              "      <td>152</td>\n",
              "      <td>152</td>\n",
              "      <td>152</td>\n",
              "      <td>152</td>\n",
              "      <td>152</td>\n",
              "      <td>152</td>\n",
              "      <td>152</td>\n",
              "      <td>152</td>\n",
              "      <td>152</td>\n",
              "      <td>152</td>\n",
              "      <td>152</td>\n",
              "      <td>152</td>\n",
              "      <td>152</td>\n",
              "      <td>152</td>\n",
              "      <td>152</td>\n",
              "      <td>152</td>\n",
              "      <td>152</td>\n",
              "    </tr>\n",
              "    <tr>\n",
              "      <th>Male</th>\n",
              "      <td>142</td>\n",
              "      <td>142</td>\n",
              "      <td>142</td>\n",
              "      <td>142</td>\n",
              "      <td>142</td>\n",
              "      <td>142</td>\n",
              "      <td>142</td>\n",
              "      <td>142</td>\n",
              "      <td>142</td>\n",
              "      <td>142</td>\n",
              "      <td>142</td>\n",
              "      <td>142</td>\n",
              "      <td>142</td>\n",
              "      <td>142</td>\n",
              "      <td>142</td>\n",
              "      <td>142</td>\n",
              "      <td>142</td>\n",
              "      <td>142</td>\n",
              "      <td>142</td>\n",
              "      <td>142</td>\n",
              "      <td>142</td>\n",
              "      <td>142</td>\n",
              "      <td>142</td>\n",
              "      <td>142</td>\n",
              "      <td>142</td>\n",
              "      <td>142</td>\n",
              "      <td>142</td>\n",
              "      <td>142</td>\n",
              "      <td>142</td>\n",
              "      <td>142</td>\n",
              "    </tr>\n",
              "  </tbody>\n",
              "</table>\n",
              "</div>"
            ],
            "text/plain": [
              "        Employed  Mental_Illness  ...  Region  Device Type\n",
              "Gender                            ...                     \n",
              "Female       152             152  ...     152          152\n",
              "Male         142             142  ...     142          142\n",
              "\n",
              "[2 rows x 30 columns]"
            ]
          },
          "metadata": {
            "tags": []
          },
          "execution_count": 103
        }
      ]
    },
    {
      "cell_type": "code",
      "metadata": {
        "id": "Tj1yA3QkxmgA",
        "colab": {
          "base_uri": "https://localhost:8080/",
          "height": 394
        },
        "outputId": "f32434b6-dbd9-4fba-e067-075460fd426a"
      },
      "source": [
        "# Count the ages of participants (demographic count)\n",
        "df.groupby('Age').count()"
      ],
      "execution_count": null,
      "outputs": [
        {
          "output_type": "execute_result",
          "data": {
            "text/html": [
              "<div>\n",
              "<style scoped>\n",
              "    .dataframe tbody tr th:only-of-type {\n",
              "        vertical-align: middle;\n",
              "    }\n",
              "\n",
              "    .dataframe tbody tr th {\n",
              "        vertical-align: top;\n",
              "    }\n",
              "\n",
              "    .dataframe thead th {\n",
              "        text-align: right;\n",
              "    }\n",
              "</style>\n",
              "<table border=\"1\" class=\"dataframe\">\n",
              "  <thead>\n",
              "    <tr style=\"text-align: right;\">\n",
              "      <th></th>\n",
              "      <th>Employed</th>\n",
              "      <th>Mental_Illness</th>\n",
              "      <th>Education</th>\n",
              "      <th>I have my own computer separate from a smart phone</th>\n",
              "      <th>I have been hospitalized before for my mental illness</th>\n",
              "      <th>How many days were you hospitalized for your mental illness</th>\n",
              "      <th>I am legally disabled</th>\n",
              "      <th>I have my regular access to the internet</th>\n",
              "      <th>I live with my parents</th>\n",
              "      <th>I have a gap in my resume</th>\n",
              "      <th>Total length of any gaps in my resume in months.</th>\n",
              "      <th>Annual income (including any social welfare programs) in USD</th>\n",
              "      <th>I am unemployed</th>\n",
              "      <th>I read outside of work and school</th>\n",
              "      <th>Annual income from social welfare programs</th>\n",
              "      <th>I receive food stamps</th>\n",
              "      <th>I am on section 8 housing</th>\n",
              "      <th>How many times were you hospitalized for your mental illness</th>\n",
              "      <th>LackofConcentration</th>\n",
              "      <th>Anxiety</th>\n",
              "      <th>Depression</th>\n",
              "      <th>Obsessive_Thinking</th>\n",
              "      <th>Mood_Swings</th>\n",
              "      <th>Panic_Attacks</th>\n",
              "      <th>Compulsive_Behavior</th>\n",
              "      <th>Tiredness</th>\n",
              "      <th>Gender</th>\n",
              "      <th>Household Income</th>\n",
              "      <th>Region</th>\n",
              "      <th>Device Type</th>\n",
              "    </tr>\n",
              "    <tr>\n",
              "      <th>Age</th>\n",
              "      <th></th>\n",
              "      <th></th>\n",
              "      <th></th>\n",
              "      <th></th>\n",
              "      <th></th>\n",
              "      <th></th>\n",
              "      <th></th>\n",
              "      <th></th>\n",
              "      <th></th>\n",
              "      <th></th>\n",
              "      <th></th>\n",
              "      <th></th>\n",
              "      <th></th>\n",
              "      <th></th>\n",
              "      <th></th>\n",
              "      <th></th>\n",
              "      <th></th>\n",
              "      <th></th>\n",
              "      <th></th>\n",
              "      <th></th>\n",
              "      <th></th>\n",
              "      <th></th>\n",
              "      <th></th>\n",
              "      <th></th>\n",
              "      <th></th>\n",
              "      <th></th>\n",
              "      <th></th>\n",
              "      <th></th>\n",
              "      <th></th>\n",
              "      <th></th>\n",
              "    </tr>\n",
              "  </thead>\n",
              "  <tbody>\n",
              "    <tr>\n",
              "      <th>18-29</th>\n",
              "      <td>44</td>\n",
              "      <td>44</td>\n",
              "      <td>44</td>\n",
              "      <td>44</td>\n",
              "      <td>44</td>\n",
              "      <td>44</td>\n",
              "      <td>44</td>\n",
              "      <td>44</td>\n",
              "      <td>44</td>\n",
              "      <td>44</td>\n",
              "      <td>44</td>\n",
              "      <td>44</td>\n",
              "      <td>44</td>\n",
              "      <td>44</td>\n",
              "      <td>44</td>\n",
              "      <td>44</td>\n",
              "      <td>44</td>\n",
              "      <td>44</td>\n",
              "      <td>44</td>\n",
              "      <td>44</td>\n",
              "      <td>44</td>\n",
              "      <td>44</td>\n",
              "      <td>44</td>\n",
              "      <td>44</td>\n",
              "      <td>44</td>\n",
              "      <td>44</td>\n",
              "      <td>44</td>\n",
              "      <td>44</td>\n",
              "      <td>44</td>\n",
              "      <td>44</td>\n",
              "    </tr>\n",
              "    <tr>\n",
              "      <th>30-44</th>\n",
              "      <td>82</td>\n",
              "      <td>82</td>\n",
              "      <td>82</td>\n",
              "      <td>82</td>\n",
              "      <td>82</td>\n",
              "      <td>82</td>\n",
              "      <td>82</td>\n",
              "      <td>82</td>\n",
              "      <td>82</td>\n",
              "      <td>82</td>\n",
              "      <td>82</td>\n",
              "      <td>82</td>\n",
              "      <td>82</td>\n",
              "      <td>82</td>\n",
              "      <td>82</td>\n",
              "      <td>82</td>\n",
              "      <td>82</td>\n",
              "      <td>82</td>\n",
              "      <td>82</td>\n",
              "      <td>82</td>\n",
              "      <td>82</td>\n",
              "      <td>82</td>\n",
              "      <td>82</td>\n",
              "      <td>82</td>\n",
              "      <td>82</td>\n",
              "      <td>82</td>\n",
              "      <td>82</td>\n",
              "      <td>82</td>\n",
              "      <td>82</td>\n",
              "      <td>82</td>\n",
              "    </tr>\n",
              "    <tr>\n",
              "      <th>45-60</th>\n",
              "      <td>92</td>\n",
              "      <td>92</td>\n",
              "      <td>92</td>\n",
              "      <td>92</td>\n",
              "      <td>92</td>\n",
              "      <td>92</td>\n",
              "      <td>92</td>\n",
              "      <td>92</td>\n",
              "      <td>92</td>\n",
              "      <td>92</td>\n",
              "      <td>92</td>\n",
              "      <td>92</td>\n",
              "      <td>92</td>\n",
              "      <td>92</td>\n",
              "      <td>92</td>\n",
              "      <td>92</td>\n",
              "      <td>92</td>\n",
              "      <td>92</td>\n",
              "      <td>92</td>\n",
              "      <td>92</td>\n",
              "      <td>92</td>\n",
              "      <td>92</td>\n",
              "      <td>92</td>\n",
              "      <td>92</td>\n",
              "      <td>92</td>\n",
              "      <td>92</td>\n",
              "      <td>92</td>\n",
              "      <td>92</td>\n",
              "      <td>92</td>\n",
              "      <td>92</td>\n",
              "    </tr>\n",
              "    <tr>\n",
              "      <th>&gt; 60</th>\n",
              "      <td>76</td>\n",
              "      <td>76</td>\n",
              "      <td>76</td>\n",
              "      <td>76</td>\n",
              "      <td>76</td>\n",
              "      <td>76</td>\n",
              "      <td>76</td>\n",
              "      <td>76</td>\n",
              "      <td>76</td>\n",
              "      <td>76</td>\n",
              "      <td>76</td>\n",
              "      <td>76</td>\n",
              "      <td>76</td>\n",
              "      <td>76</td>\n",
              "      <td>76</td>\n",
              "      <td>76</td>\n",
              "      <td>76</td>\n",
              "      <td>76</td>\n",
              "      <td>76</td>\n",
              "      <td>76</td>\n",
              "      <td>76</td>\n",
              "      <td>76</td>\n",
              "      <td>76</td>\n",
              "      <td>76</td>\n",
              "      <td>76</td>\n",
              "      <td>76</td>\n",
              "      <td>76</td>\n",
              "      <td>76</td>\n",
              "      <td>76</td>\n",
              "      <td>76</td>\n",
              "    </tr>\n",
              "  </tbody>\n",
              "</table>\n",
              "</div>"
            ],
            "text/plain": [
              "       Employed  Mental_Illness  ...  Region  Device Type\n",
              "Age                              ...                     \n",
              "18-29        44              44  ...      44           44\n",
              "30-44        82              82  ...      82           82\n",
              "45-60        92              92  ...      92           92\n",
              "> 60         76              76  ...      76           76\n",
              "\n",
              "[4 rows x 30 columns]"
            ]
          },
          "metadata": {
            "tags": []
          },
          "execution_count": 104
        }
      ]
    },
    {
      "cell_type": "code",
      "metadata": {
        "id": "VhVYKrCiXQt_",
        "colab": {
          "base_uri": "https://localhost:8080/",
          "height": 264
        },
        "outputId": "c527c2be-08f1-4dfd-ad82-b8a4d96ef608"
      },
      "source": [
        "# Count those w and w/o mental illness\n",
        "df.groupby('Mental_Illness').count()"
      ],
      "execution_count": null,
      "outputs": [
        {
          "output_type": "execute_result",
          "data": {
            "text/html": [
              "<div>\n",
              "<style scoped>\n",
              "    .dataframe tbody tr th:only-of-type {\n",
              "        vertical-align: middle;\n",
              "    }\n",
              "\n",
              "    .dataframe tbody tr th {\n",
              "        vertical-align: top;\n",
              "    }\n",
              "\n",
              "    .dataframe thead th {\n",
              "        text-align: right;\n",
              "    }\n",
              "</style>\n",
              "<table border=\"1\" class=\"dataframe\">\n",
              "  <thead>\n",
              "    <tr style=\"text-align: right;\">\n",
              "      <th></th>\n",
              "      <th>Employed</th>\n",
              "      <th>Education</th>\n",
              "      <th>I have my own computer separate from a smart phone</th>\n",
              "      <th>I have been hospitalized before for my mental illness</th>\n",
              "      <th>How many days were you hospitalized for your mental illness</th>\n",
              "      <th>I am legally disabled</th>\n",
              "      <th>I have my regular access to the internet</th>\n",
              "      <th>I live with my parents</th>\n",
              "      <th>I have a gap in my resume</th>\n",
              "      <th>Total length of any gaps in my resume in months.</th>\n",
              "      <th>Annual income (including any social welfare programs) in USD</th>\n",
              "      <th>I am unemployed</th>\n",
              "      <th>I read outside of work and school</th>\n",
              "      <th>Annual income from social welfare programs</th>\n",
              "      <th>I receive food stamps</th>\n",
              "      <th>I am on section 8 housing</th>\n",
              "      <th>How many times were you hospitalized for your mental illness</th>\n",
              "      <th>LackofConcentration</th>\n",
              "      <th>Anxiety</th>\n",
              "      <th>Depression</th>\n",
              "      <th>Obsessive_Thinking</th>\n",
              "      <th>Mood_Swings</th>\n",
              "      <th>Panic_Attacks</th>\n",
              "      <th>Compulsive_Behavior</th>\n",
              "      <th>Tiredness</th>\n",
              "      <th>Age</th>\n",
              "      <th>Gender</th>\n",
              "      <th>Household Income</th>\n",
              "      <th>Region</th>\n",
              "      <th>Device Type</th>\n",
              "    </tr>\n",
              "    <tr>\n",
              "      <th>Mental_Illness</th>\n",
              "      <th></th>\n",
              "      <th></th>\n",
              "      <th></th>\n",
              "      <th></th>\n",
              "      <th></th>\n",
              "      <th></th>\n",
              "      <th></th>\n",
              "      <th></th>\n",
              "      <th></th>\n",
              "      <th></th>\n",
              "      <th></th>\n",
              "      <th></th>\n",
              "      <th></th>\n",
              "      <th></th>\n",
              "      <th></th>\n",
              "      <th></th>\n",
              "      <th></th>\n",
              "      <th></th>\n",
              "      <th></th>\n",
              "      <th></th>\n",
              "      <th></th>\n",
              "      <th></th>\n",
              "      <th></th>\n",
              "      <th></th>\n",
              "      <th></th>\n",
              "      <th></th>\n",
              "      <th></th>\n",
              "      <th></th>\n",
              "      <th></th>\n",
              "      <th></th>\n",
              "    </tr>\n",
              "  </thead>\n",
              "  <tbody>\n",
              "    <tr>\n",
              "      <th>0</th>\n",
              "      <td>220</td>\n",
              "      <td>220</td>\n",
              "      <td>220</td>\n",
              "      <td>220</td>\n",
              "      <td>220</td>\n",
              "      <td>220</td>\n",
              "      <td>220</td>\n",
              "      <td>220</td>\n",
              "      <td>220</td>\n",
              "      <td>220</td>\n",
              "      <td>220</td>\n",
              "      <td>220</td>\n",
              "      <td>220</td>\n",
              "      <td>220</td>\n",
              "      <td>220</td>\n",
              "      <td>220</td>\n",
              "      <td>220</td>\n",
              "      <td>220</td>\n",
              "      <td>220</td>\n",
              "      <td>220</td>\n",
              "      <td>220</td>\n",
              "      <td>220</td>\n",
              "      <td>220</td>\n",
              "      <td>220</td>\n",
              "      <td>220</td>\n",
              "      <td>220</td>\n",
              "      <td>220</td>\n",
              "      <td>220</td>\n",
              "      <td>220</td>\n",
              "      <td>220</td>\n",
              "    </tr>\n",
              "    <tr>\n",
              "      <th>1</th>\n",
              "      <td>74</td>\n",
              "      <td>74</td>\n",
              "      <td>74</td>\n",
              "      <td>74</td>\n",
              "      <td>74</td>\n",
              "      <td>74</td>\n",
              "      <td>74</td>\n",
              "      <td>74</td>\n",
              "      <td>74</td>\n",
              "      <td>74</td>\n",
              "      <td>74</td>\n",
              "      <td>74</td>\n",
              "      <td>74</td>\n",
              "      <td>74</td>\n",
              "      <td>74</td>\n",
              "      <td>74</td>\n",
              "      <td>74</td>\n",
              "      <td>74</td>\n",
              "      <td>74</td>\n",
              "      <td>74</td>\n",
              "      <td>74</td>\n",
              "      <td>74</td>\n",
              "      <td>74</td>\n",
              "      <td>74</td>\n",
              "      <td>74</td>\n",
              "      <td>74</td>\n",
              "      <td>74</td>\n",
              "      <td>74</td>\n",
              "      <td>74</td>\n",
              "      <td>74</td>\n",
              "    </tr>\n",
              "  </tbody>\n",
              "</table>\n",
              "</div>"
            ],
            "text/plain": [
              "                Employed  Education  ...  Region  Device Type\n",
              "Mental_Illness                       ...                     \n",
              "0                    220        220  ...     220          220\n",
              "1                     74         74  ...      74           74\n",
              "\n",
              "[2 rows x 30 columns]"
            ]
          },
          "metadata": {
            "tags": []
          },
          "execution_count": 105
        }
      ]
    },
    {
      "cell_type": "markdown",
      "metadata": {
        "id": "elbmEH1JrX0j"
      },
      "source": [
        "## Hypothesis 1 : Being diagnosed with a mental illness will put individuals at a disadvantage in terms of being employed than those who are not diagnosed."
      ]
    },
    {
      "cell_type": "markdown",
      "metadata": {
        "id": "_egxCtmwHjCm"
      },
      "source": [
        "### descriptive stats : produce a bar graph that will look at those employed and the numbers of those with and without mental illness"
      ]
    },
    {
      "cell_type": "code",
      "metadata": {
        "id": "JeFzBAZU8f7S",
        "colab": {
          "base_uri": "https://localhost:8080/",
          "height": 299
        },
        "outputId": "f8d5400e-3aee-4578-f320-92a835ee8403"
      },
      "source": [
        "# Plotted bar graph to visualize how the employed variable is spread out amongst\n",
        "# individuals with mental illness vs. without one.\n",
        "\n",
        "emp_1 = df.loc[df['Mental_Illness'] == 1,'Employed'].sum(axis=0)\n",
        "emp_1= df.loc[df['Mental_Illness'] ==1, 'Employed'].count()\n",
        "emp_2 = df.loc[df['Mental_Illness'] == 0,'Employed'].sum(axis=0)\n",
        "emp_2 = df.loc[df['Mental_Illness'] == 0, 'Employed'].count()\n",
        "\n",
        "# Labeling axis and adding a legend \n",
        "plt.bar(0,emp_1, label = 'Mental Illness')\n",
        "plt.bar(1.0,emp_2, label = 'No Mental Illness')\n",
        "plt.title('Employment and Mental Illness')\n",
        "plt.ylabel('Employed Count')\n",
        "plt.legend()"
      ],
      "execution_count": null,
      "outputs": [
        {
          "output_type": "execute_result",
          "data": {
            "text/plain": [
              "<matplotlib.legend.Legend at 0x7f16d0230850>"
            ]
          },
          "metadata": {
            "tags": []
          },
          "execution_count": 106
        },
        {
          "output_type": "display_data",
          "data": {
            "image/png": "[encoded data removed]",
            "text/plain": [
              "<Figure size 432x288 with 1 Axes>"
            ]
          },
          "metadata": {
            "tags": []
          }
        }
      ]
    },
    {
      "cell_type": "markdown",
      "metadata": {
        "id": "eRuX24SD8p2L"
      },
      "source": [
        "### inferential stats : produce a logistic regression model where mental illness is the predictor for employment"
      ]
    },
    {
      "cell_type": "code",
      "metadata": {
        "id": "iTRn9Rrn9T7A",
        "colab": {
          "base_uri": "https://localhost:8080/",
          "height": 299
        },
        "outputId": "863ea55b-6789-4a52-cb0e-18991b88e17a"
      },
      "source": [
        "# Performing logistic regression on mental illness to see the significance between \n",
        "# mental illness and being employed\n",
        "\n",
        "model = smf.logit(formula='Employed ~ Mental_Illness', data=df).fit()\n",
        "model.summary()\n",
        "# p-value is not less than 0.05, can't reject null hypothesis "
      ],
      "execution_count": null,
      "outputs": [
        {
          "output_type": "stream",
          "text": [
            "Optimization terminated successfully.\n",
            "         Current function value: 0.622726\n",
            "         Iterations 5\n"
          ],
          "name": "stdout"
        },
        {
          "output_type": "execute_result",
          "data": {
            "text/html": [
              "<table class=\"simpletable\">\n",
              "<caption>Logit Regression Results</caption>\n",
              "<tr>\n",
              "  <th>Dep. Variable:</th>       <td>Employed</td>     <th>  No. Observations:  </th>  <td>   294</td> \n",
              "</tr>\n",
              "<tr>\n",
              "  <th>Model:</th>                 <td>Logit</td>      <th>  Df Residuals:      </th>  <td>   292</td> \n",
              "</tr>\n",
              "<tr>\n",
              "  <th>Method:</th>                 <td>MLE</td>       <th>  Df Model:          </th>  <td>     1</td> \n",
              "</tr>\n",
              "<tr>\n",
              "  <th>Date:</th>            <td>Thu, 29 Jul 2021</td> <th>  Pseudo R-squ.:     </th> <td>0.006284</td>\n",
              "</tr>\n",
              "<tr>\n",
              "  <th>Time:</th>                <td>00:07:10</td>     <th>  Log-Likelihood:    </th> <td> -183.08</td>\n",
              "</tr>\n",
              "<tr>\n",
              "  <th>converged:</th>             <td>True</td>       <th>  LL-Null:           </th> <td> -184.24</td>\n",
              "</tr>\n",
              "<tr>\n",
              "  <th>Covariance Type:</th>     <td>nonrobust</td>    <th>  LLR p-value:       </th>  <td>0.1281</td> \n",
              "</tr>\n",
              "</table>\n",
              "<table class=\"simpletable\">\n",
              "<tr>\n",
              "         <td></td>           <th>coef</th>     <th>std err</th>      <th>z</th>      <th>P>|z|</th>  <th>[0.025</th>    <th>0.975]</th>  \n",
              "</tr>\n",
              "<tr>\n",
              "  <th>Intercept</th>      <td>    0.8690</td> <td>    0.148</td> <td>    5.881</td> <td> 0.000</td> <td>    0.579</td> <td>    1.159</td>\n",
              "</tr>\n",
              "<tr>\n",
              "  <th>Mental_Illness</th> <td>   -0.4297</td> <td>    0.280</td> <td>   -1.533</td> <td> 0.125</td> <td>   -0.979</td> <td>    0.120</td>\n",
              "</tr>\n",
              "</table>"
            ],
            "text/plain": [
              "<class 'statsmodels.iolib.summary.Summary'>\n",
              "\"\"\"\n",
              "                           Logit Regression Results                           \n",
              "==============================================================================\n",
              "Dep. Variable:               Employed   No. Observations:                  294\n",
              "Model:                          Logit   Df Residuals:                      292\n",
              "Method:                           MLE   Df Model:                            1\n",
              "Date:                Thu, 29 Jul 2021   Pseudo R-squ.:                0.006284\n",
              "Time:                        00:07:10   Log-Likelihood:                -183.08\n",
              "converged:                       True   LL-Null:                       -184.24\n",
              "Covariance Type:            nonrobust   LLR p-value:                    0.1281\n",
              "==================================================================================\n",
              "                     coef    std err          z      P>|z|      [0.025      0.975]\n",
              "----------------------------------------------------------------------------------\n",
              "Intercept          0.8690      0.148      5.881      0.000       0.579       1.159\n",
              "Mental_Illness    -0.4297      0.280     -1.533      0.125      -0.979       0.120\n",
              "==================================================================================\n",
              "\"\"\""
            ]
          },
          "metadata": {
            "tags": []
          },
          "execution_count": 107
        }
      ]
    },
    {
      "cell_type": "markdown",
      "metadata": {
        "id": "dM5ZhEs-8g4M"
      },
      "source": [
        "## Hypothesis 2 : Subsequently, due to the idea that one does not need to have a formal diagnosis to exhibit symptoms, we formulated the following question: which symptom of poor mental health (not including a diagnosis) stands as the strongest predictor for determining unemployment?\n"
      ]
    },
    {
      "cell_type": "code",
      "metadata": {
        "id": "asN6Y-2556_X",
        "colab": {
          "base_uri": "https://localhost:8080/"
        },
        "outputId": "89381b53-30bd-4fba-9158-90cedb5b2b69"
      },
      "source": [
        "# All column names\n",
        "df.columns"
      ],
      "execution_count": null,
      "outputs": [
        {
          "output_type": "execute_result",
          "data": {
            "text/plain": [
              "Index(['Employed', 'Mental_Illness', 'Education',\n",
              "       'I have my own computer separate from a smart phone',\n",
              "       'I have been hospitalized before for my mental illness',\n",
              "       'How many days were you hospitalized for your mental illness',\n",
              "       'I am legally disabled', 'I have my regular access to the internet',\n",
              "       'I live with my parents', 'I have a gap in my resume',\n",
              "       'Total length of any gaps in my resume in months.',\n",
              "       'Annual income (including any social welfare programs) in USD',\n",
              "       'I am unemployed', 'I read outside of work and school',\n",
              "       'Annual income from social welfare programs', 'I receive food stamps',\n",
              "       'I am on section 8 housing',\n",
              "       'How many times were you hospitalized for your mental illness',\n",
              "       'LackofConcentration', 'Anxiety', 'Depression', 'Obsessive_Thinking',\n",
              "       'Mood_Swings', 'Panic_Attacks', 'Compulsive_Behavior', 'Tiredness',\n",
              "       'Age', 'Gender', 'Household Income', 'Region', 'Device Type'],\n",
              "      dtype='object')"
            ]
          },
          "metadata": {
            "tags": []
          },
          "execution_count": 108
        }
      ]
    },
    {
      "cell_type": "markdown",
      "metadata": {
        "id": "d1yAcT228m8Z"
      },
      "source": [
        "### descriptive stats : produce a bar graph to scale of those employed and not employed along with numbers for symptoms"
      ]
    },
    {
      "cell_type": "code",
      "metadata": {
        "id": "-5tXytfskYT_"
      },
      "source": [
        "# *** i could try to do this. ***\n",
        "# plotting bar graphs to visualize the relationship between employed and each symptoms\n",
        "emp_1 = df.loc[df['Mental_Illness'] == 1,'Employed'].sum(axis=0)\n",
        "emp_1= df.loc[df['Mental_Illness'] ==1, 'Employed'].count()\n",
        "\n",
        "lcCounts = df.loc[df['LackofConcentration'] == 1, 'Employed'].sum(axis=0)\n",
        "lcCounts = df.loc[df['LackofConcentration'] == 1, 'Employed'].count()\n",
        "lcCounts_2 = df.loc[df['LackofConcentration'] == 0, 'Employed'].sum(axis=0)\n",
        "lcCounts = df.loc[df['LackofConcentration'] == 0, 'Employed'].count()"
      ],
      "execution_count": null,
      "outputs": []
    },
    {
      "cell_type": "markdown",
      "metadata": {
        "id": "TH1-6VkEv_Xn"
      },
      "source": [
        "1. Took the cleaned csv file and only took the unemployed, employed, and all the mental illness columns.\n",
        "2. Organized all the data into seperate columns; one for unemployed and one for employed.\n",
        "3. For employed, took the counts of each symptom that appeared and divided it by number of employed inviduals surveyed.\n",
        "4. For unemployed took counts of each symptom that appeared and divided it by number of unemployed invidiuals.\n",
        "5. Compared the percentages (scaled to sample) of frequency of each symptom in each respective group.\n",
        "\n",
        "\n"
      ]
    },
    {
      "cell_type": "markdown",
      "metadata": {
        "id": "p2akfV-80_DS"
      },
      "source": [
        "![Screen Shot 2021-07-28 at 8.55.55 AM.png](data:image/png;base64,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)"
      ]
    },
    {
      "cell_type": "markdown",
      "metadata": {
        "id": "WtESQ3mX8oR_"
      },
      "source": [
        "### inferential stats "
      ]
    },
    {
      "cell_type": "markdown",
      "metadata": {
        "id": "wVy9FSUTf6DD"
      },
      "source": [
        "#### method 1: We will produce a logistic regression model for each symptom as a predictor and employment as a prediction task; afterwards, we will split the training and testing data (80-20) with sklearn train-test split and find the accuracy_score of the model.\n",
        "- The accuracy score is finding the following: “the set of labels predicted for a sample must exactly match the corresponding set of labels in y_true” (Kite, n.d.)\n"
      ]
    },
    {
      "cell_type": "code",
      "metadata": {
        "id": "bfwbQh0h8pgt",
        "colab": {
          "base_uri": "https://localhost:8080/",
          "height": 299
        },
        "outputId": "a3ee2643-0586-44da-e000-2f86cd6f00cb"
      },
      "source": [
        "# Run logistic regression : Lack of Concentration\n",
        "model = smf.logit(formula='Employed ~ LackofConcentration', data=df).fit()\n",
        "model.summary()\n",
        "# p-value 0.426"
      ],
      "execution_count": null,
      "outputs": [
        {
          "output_type": "stream",
          "text": [
            "Optimization terminated successfully.\n",
            "         Current function value: 0.625607\n",
            "         Iterations 5\n"
          ],
          "name": "stdout"
        },
        {
          "output_type": "execute_result",
          "data": {
            "text/html": [
              "<table class=\"simpletable\">\n",
              "<caption>Logit Regression Results</caption>\n",
              "<tr>\n",
              "  <th>Dep. Variable:</th>       <td>Employed</td>     <th>  No. Observations:  </th>  <td>   294</td> \n",
              "</tr>\n",
              "<tr>\n",
              "  <th>Model:</th>                 <td>Logit</td>      <th>  Df Residuals:      </th>  <td>   292</td> \n",
              "</tr>\n",
              "<tr>\n",
              "  <th>Method:</th>                 <td>MLE</td>       <th>  Df Model:          </th>  <td>     1</td> \n",
              "</tr>\n",
              "<tr>\n",
              "  <th>Date:</th>            <td>Thu, 29 Jul 2021</td> <th>  Pseudo R-squ.:     </th> <td>0.001687</td>\n",
              "</tr>\n",
              "<tr>\n",
              "  <th>Time:</th>                <td>00:07:10</td>     <th>  Log-Likelihood:    </th> <td> -183.93</td>\n",
              "</tr>\n",
              "<tr>\n",
              "  <th>converged:</th>             <td>True</td>       <th>  LL-Null:           </th> <td> -184.24</td>\n",
              "</tr>\n",
              "<tr>\n",
              "  <th>Covariance Type:</th>     <td>nonrobust</td>    <th>  LLR p-value:       </th>  <td>0.4305</td> \n",
              "</tr>\n",
              "</table>\n",
              "<table class=\"simpletable\">\n",
              "<tr>\n",
              "           <td></td>              <th>coef</th>     <th>std err</th>      <th>z</th>      <th>P>|z|</th>  <th>[0.025</th>    <th>0.975]</th>  \n",
              "</tr>\n",
              "<tr>\n",
              "  <th>Intercept</th>           <td>    0.7966</td> <td>    0.136</td> <td>    5.841</td> <td> 0.000</td> <td>    0.529</td> <td>    1.064</td>\n",
              "</tr>\n",
              "<tr>\n",
              "  <th>LackofConcentration</th> <td>   -0.2733</td> <td>    0.344</td> <td>   -0.795</td> <td> 0.426</td> <td>   -0.947</td> <td>    0.400</td>\n",
              "</tr>\n",
              "</table>"
            ],
            "text/plain": [
              "<class 'statsmodels.iolib.summary.Summary'>\n",
              "\"\"\"\n",
              "                           Logit Regression Results                           \n",
              "==============================================================================\n",
              "Dep. Variable:               Employed   No. Observations:                  294\n",
              "Model:                          Logit   Df Residuals:                      292\n",
              "Method:                           MLE   Df Model:                            1\n",
              "Date:                Thu, 29 Jul 2021   Pseudo R-squ.:                0.001687\n",
              "Time:                        00:07:10   Log-Likelihood:                -183.93\n",
              "converged:                       True   LL-Null:                       -184.24\n",
              "Covariance Type:            nonrobust   LLR p-value:                    0.4305\n",
              "=======================================================================================\n",
              "                          coef    std err          z      P>|z|      [0.025      0.975]\n",
              "---------------------------------------------------------------------------------------\n",
              "Intercept               0.7966      0.136      5.841      0.000       0.529       1.064\n",
              "LackofConcentration    -0.2733      0.344     -0.795      0.426      -0.947       0.400\n",
              "=======================================================================================\n",
              "\"\"\""
            ]
          },
          "metadata": {
            "tags": []
          },
          "execution_count": 110
        }
      ]
    },
    {
      "cell_type": "code",
      "metadata": {
        "id": "tWSm88ZSM1Fk",
        "colab": {
          "base_uri": "https://localhost:8080/",
          "height": 299
        },
        "outputId": "b39881a2-286a-47c0-e6ba-3db7f0b8ffb3"
      },
      "source": [
        "# Run logistic regression : Anxiety\n",
        "model = smf.logit(formula='Employed ~ Anxiety', data=df).fit()\n",
        "model.summary()\n",
        "# p-value 0.092"
      ],
      "execution_count": null,
      "outputs": [
        {
          "output_type": "stream",
          "text": [
            "Optimization terminated successfully.\n",
            "         Current function value: 0.621897\n",
            "         Iterations 5\n"
          ],
          "name": "stdout"
        },
        {
          "output_type": "execute_result",
          "data": {
            "text/html": [
              "<table class=\"simpletable\">\n",
              "<caption>Logit Regression Results</caption>\n",
              "<tr>\n",
              "  <th>Dep. Variable:</th>       <td>Employed</td>     <th>  No. Observations:  </th>  <td>   294</td> \n",
              "</tr>\n",
              "<tr>\n",
              "  <th>Model:</th>                 <td>Logit</td>      <th>  Df Residuals:      </th>  <td>   292</td> \n",
              "</tr>\n",
              "<tr>\n",
              "  <th>Method:</th>                 <td>MLE</td>       <th>  Df Model:          </th>  <td>     1</td> \n",
              "</tr>\n",
              "<tr>\n",
              "  <th>Date:</th>            <td>Thu, 29 Jul 2021</td> <th>  Pseudo R-squ.:     </th> <td>0.007607</td>\n",
              "</tr>\n",
              "<tr>\n",
              "  <th>Time:</th>                <td>00:07:10</td>     <th>  Log-Likelihood:    </th> <td> -182.84</td>\n",
              "</tr>\n",
              "<tr>\n",
              "  <th>converged:</th>             <td>True</td>       <th>  LL-Null:           </th> <td> -184.24</td>\n",
              "</tr>\n",
              "<tr>\n",
              "  <th>Covariance Type:</th>     <td>nonrobust</td>    <th>  LLR p-value:       </th>  <td>0.09408</td>\n",
              "</tr>\n",
              "</table>\n",
              "<table class=\"simpletable\">\n",
              "<tr>\n",
              "      <td></td>         <th>coef</th>     <th>std err</th>      <th>z</th>      <th>P>|z|</th>  <th>[0.025</th>    <th>0.975]</th>  \n",
              "</tr>\n",
              "<tr>\n",
              "  <th>Intercept</th> <td>    0.8992</td> <td>    0.154</td> <td>    5.823</td> <td> 0.000</td> <td>    0.597</td> <td>    1.202</td>\n",
              "</tr>\n",
              "<tr>\n",
              "  <th>Anxiety</th>   <td>   -0.4472</td> <td>    0.266</td> <td>   -1.683</td> <td> 0.092</td> <td>   -0.968</td> <td>    0.074</td>\n",
              "</tr>\n",
              "</table>"
            ],
            "text/plain": [
              "<class 'statsmodels.iolib.summary.Summary'>\n",
              "\"\"\"\n",
              "                           Logit Regression Results                           \n",
              "==============================================================================\n",
              "Dep. Variable:               Employed   No. Observations:                  294\n",
              "Model:                          Logit   Df Residuals:                      292\n",
              "Method:                           MLE   Df Model:                            1\n",
              "Date:                Thu, 29 Jul 2021   Pseudo R-squ.:                0.007607\n",
              "Time:                        00:07:10   Log-Likelihood:                -182.84\n",
              "converged:                       True   LL-Null:                       -184.24\n",
              "Covariance Type:            nonrobust   LLR p-value:                   0.09408\n",
              "==============================================================================\n",
              "                 coef    std err          z      P>|z|      [0.025      0.975]\n",
              "------------------------------------------------------------------------------\n",
              "Intercept      0.8992      0.154      5.823      0.000       0.597       1.202\n",
              "Anxiety       -0.4472      0.266     -1.683      0.092      -0.968       0.074\n",
              "==============================================================================\n",
              "\"\"\""
            ]
          },
          "metadata": {
            "tags": []
          },
          "execution_count": 111
        }
      ]
    },
    {
      "cell_type": "code",
      "metadata": {
        "id": "YoUDKgkRM1fm",
        "colab": {
          "base_uri": "https://localhost:8080/",
          "height": 299
        },
        "outputId": "6504328f-4d90-4f99-d527-9499f841a03e"
      },
      "source": [
        "# Run logistic regression : Depression\n",
        "model = smf.logit(formula='Employed ~ Depression', data=df).fit()\n",
        "model.summary()\n",
        "# p-value 0.127"
      ],
      "execution_count": null,
      "outputs": [
        {
          "output_type": "stream",
          "text": [
            "Optimization terminated successfully.\n",
            "         Current function value: 0.622763\n",
            "         Iterations 5\n"
          ],
          "name": "stdout"
        },
        {
          "output_type": "execute_result",
          "data": {
            "text/html": [
              "<table class=\"simpletable\">\n",
              "<caption>Logit Regression Results</caption>\n",
              "<tr>\n",
              "  <th>Dep. Variable:</th>       <td>Employed</td>     <th>  No. Observations:  </th>  <td>   294</td> \n",
              "</tr>\n",
              "<tr>\n",
              "  <th>Model:</th>                 <td>Logit</td>      <th>  Df Residuals:      </th>  <td>   292</td> \n",
              "</tr>\n",
              "<tr>\n",
              "  <th>Method:</th>                 <td>MLE</td>       <th>  Df Model:          </th>  <td>     1</td> \n",
              "</tr>\n",
              "<tr>\n",
              "  <th>Date:</th>            <td>Thu, 29 Jul 2021</td> <th>  Pseudo R-squ.:     </th> <td>0.006225</td>\n",
              "</tr>\n",
              "<tr>\n",
              "  <th>Time:</th>                <td>00:07:10</td>     <th>  Log-Likelihood:    </th> <td> -183.09</td>\n",
              "</tr>\n",
              "<tr>\n",
              "  <th>converged:</th>             <td>True</td>       <th>  LL-Null:           </th> <td> -184.24</td>\n",
              "</tr>\n",
              "<tr>\n",
              "  <th>Covariance Type:</th>     <td>nonrobust</td>    <th>  LLR p-value:       </th>  <td>0.1299</td> \n",
              "</tr>\n",
              "</table>\n",
              "<table class=\"simpletable\">\n",
              "<tr>\n",
              "       <td></td>         <th>coef</th>     <th>std err</th>      <th>z</th>      <th>P>|z|</th>  <th>[0.025</th>    <th>0.975]</th>  \n",
              "</tr>\n",
              "<tr>\n",
              "  <th>Intercept</th>  <td>    0.8716</td> <td>    0.149</td> <td>    5.855</td> <td> 0.000</td> <td>    0.580</td> <td>    1.163</td>\n",
              "</tr>\n",
              "<tr>\n",
              "  <th>Depression</th> <td>   -0.4226</td> <td>    0.277</td> <td>   -1.525</td> <td> 0.127</td> <td>   -0.966</td> <td>    0.120</td>\n",
              "</tr>\n",
              "</table>"
            ],
            "text/plain": [
              "<class 'statsmodels.iolib.summary.Summary'>\n",
              "\"\"\"\n",
              "                           Logit Regression Results                           \n",
              "==============================================================================\n",
              "Dep. Variable:               Employed   No. Observations:                  294\n",
              "Model:                          Logit   Df Residuals:                      292\n",
              "Method:                           MLE   Df Model:                            1\n",
              "Date:                Thu, 29 Jul 2021   Pseudo R-squ.:                0.006225\n",
              "Time:                        00:07:10   Log-Likelihood:                -183.09\n",
              "converged:                       True   LL-Null:                       -184.24\n",
              "Covariance Type:            nonrobust   LLR p-value:                    0.1299\n",
              "==============================================================================\n",
              "                 coef    std err          z      P>|z|      [0.025      0.975]\n",
              "------------------------------------------------------------------------------\n",
              "Intercept      0.8716      0.149      5.855      0.000       0.580       1.163\n",
              "Depression    -0.4226      0.277     -1.525      0.127      -0.966       0.120\n",
              "==============================================================================\n",
              "\"\"\""
            ]
          },
          "metadata": {
            "tags": []
          },
          "execution_count": 112
        }
      ]
    },
    {
      "cell_type": "code",
      "metadata": {
        "id": "7etZ5hjYM1tE",
        "colab": {
          "base_uri": "https://localhost:8080/",
          "height": 299
        },
        "outputId": "d7bc6738-c263-4650-ab0f-1f6ab562cc5d"
      },
      "source": [
        "# Run logistic regression : Obsessive Thinkimg\n",
        "model = smf.logit(formula='Employed ~ Obsessive_Thinking', data=df).fit()\n",
        "model.summary()\n",
        "# p-value 0.154"
      ],
      "execution_count": null,
      "outputs": [
        {
          "output_type": "stream",
          "text": [
            "Optimization terminated successfully.\n",
            "         Current function value: 0.623295\n",
            "         Iterations 5\n"
          ],
          "name": "stdout"
        },
        {
          "output_type": "execute_result",
          "data": {
            "text/html": [
              "<table class=\"simpletable\">\n",
              "<caption>Logit Regression Results</caption>\n",
              "<tr>\n",
              "  <th>Dep. Variable:</th>       <td>Employed</td>     <th>  No. Observations:  </th>  <td>   294</td> \n",
              "</tr>\n",
              "<tr>\n",
              "  <th>Model:</th>                 <td>Logit</td>      <th>  Df Residuals:      </th>  <td>   292</td> \n",
              "</tr>\n",
              "<tr>\n",
              "  <th>Method:</th>                 <td>MLE</td>       <th>  Df Model:          </th>  <td>     1</td> \n",
              "</tr>\n",
              "<tr>\n",
              "  <th>Date:</th>            <td>Thu, 29 Jul 2021</td> <th>  Pseudo R-squ.:     </th> <td>0.005377</td>\n",
              "</tr>\n",
              "<tr>\n",
              "  <th>Time:</th>                <td>00:07:10</td>     <th>  Log-Likelihood:    </th> <td> -183.25</td>\n",
              "</tr>\n",
              "<tr>\n",
              "  <th>converged:</th>             <td>True</td>       <th>  LL-Null:           </th> <td> -184.24</td>\n",
              "</tr>\n",
              "<tr>\n",
              "  <th>Covariance Type:</th>     <td>nonrobust</td>    <th>  LLR p-value:       </th>  <td>0.1592</td> \n",
              "</tr>\n",
              "</table>\n",
              "<table class=\"simpletable\">\n",
              "<tr>\n",
              "           <td></td>             <th>coef</th>     <th>std err</th>      <th>z</th>      <th>P>|z|</th>  <th>[0.025</th>    <th>0.975]</th>  \n",
              "</tr>\n",
              "<tr>\n",
              "  <th>Intercept</th>          <td>    0.8251</td> <td>    0.136</td> <td>    6.076</td> <td> 0.000</td> <td>    0.559</td> <td>    1.091</td>\n",
              "</tr>\n",
              "<tr>\n",
              "  <th>Obsessive_Thinking</th> <td>   -0.5066</td> <td>    0.356</td> <td>   -1.425</td> <td> 0.154</td> <td>   -1.203</td> <td>    0.190</td>\n",
              "</tr>\n",
              "</table>"
            ],
            "text/plain": [
              "<class 'statsmodels.iolib.summary.Summary'>\n",
              "\"\"\"\n",
              "                           Logit Regression Results                           \n",
              "==============================================================================\n",
              "Dep. Variable:               Employed   No. Observations:                  294\n",
              "Model:                          Logit   Df Residuals:                      292\n",
              "Method:                           MLE   Df Model:                            1\n",
              "Date:                Thu, 29 Jul 2021   Pseudo R-squ.:                0.005377\n",
              "Time:                        00:07:10   Log-Likelihood:                -183.25\n",
              "converged:                       True   LL-Null:                       -184.24\n",
              "Covariance Type:            nonrobust   LLR p-value:                    0.1592\n",
              "======================================================================================\n",
              "                         coef    std err          z      P>|z|      [0.025      0.975]\n",
              "--------------------------------------------------------------------------------------\n",
              "Intercept              0.8251      0.136      6.076      0.000       0.559       1.091\n",
              "Obsessive_Thinking    -0.5066      0.356     -1.425      0.154      -1.203       0.190\n",
              "======================================================================================\n",
              "\"\"\""
            ]
          },
          "metadata": {
            "tags": []
          },
          "execution_count": 113
        }
      ]
    },
    {
      "cell_type": "code",
      "metadata": {
        "id": "smLodHulM15D",
        "colab": {
          "base_uri": "https://localhost:8080/",
          "height": 299
        },
        "outputId": "7d3c8f4e-bdc7-416f-a601-56e480fd8883"
      },
      "source": [
        "# Run logistic regression : Mood Swings\n",
        "model = smf.logit(formula='Employed ~ Mood_Swings', data=df).fit()\n",
        "model.summary()\n",
        "# p-value 0.100"
      ],
      "execution_count": null,
      "outputs": [
        {
          "output_type": "stream",
          "text": [
            "Optimization terminated successfully.\n",
            "         Current function value: 0.622179\n",
            "         Iterations 5\n"
          ],
          "name": "stdout"
        },
        {
          "output_type": "execute_result",
          "data": {
            "text/html": [
              "<table class=\"simpletable\">\n",
              "<caption>Logit Regression Results</caption>\n",
              "<tr>\n",
              "  <th>Dep. Variable:</th>       <td>Employed</td>     <th>  No. Observations:  </th>  <td>   294</td> \n",
              "</tr>\n",
              "<tr>\n",
              "  <th>Model:</th>                 <td>Logit</td>      <th>  Df Residuals:      </th>  <td>   292</td> \n",
              "</tr>\n",
              "<tr>\n",
              "  <th>Method:</th>                 <td>MLE</td>       <th>  Df Model:          </th>  <td>     1</td> \n",
              "</tr>\n",
              "<tr>\n",
              "  <th>Date:</th>            <td>Thu, 29 Jul 2021</td> <th>  Pseudo R-squ.:     </th> <td>0.007157</td>\n",
              "</tr>\n",
              "<tr>\n",
              "  <th>Time:</th>                <td>00:07:10</td>     <th>  Log-Likelihood:    </th> <td> -182.92</td>\n",
              "</tr>\n",
              "<tr>\n",
              "  <th>converged:</th>             <td>True</td>       <th>  LL-Null:           </th> <td> -184.24</td>\n",
              "</tr>\n",
              "<tr>\n",
              "  <th>Covariance Type:</th>     <td>nonrobust</td>    <th>  LLR p-value:       </th>  <td>0.1044</td> \n",
              "</tr>\n",
              "</table>\n",
              "<table class=\"simpletable\">\n",
              "<tr>\n",
              "       <td></td>          <th>coef</th>     <th>std err</th>      <th>z</th>      <th>P>|z|</th>  <th>[0.025</th>    <th>0.975]</th>  \n",
              "</tr>\n",
              "<tr>\n",
              "  <th>Intercept</th>   <td>    0.8275</td> <td>    0.134</td> <td>    6.174</td> <td> 0.000</td> <td>    0.565</td> <td>    1.090</td>\n",
              "</tr>\n",
              "<tr>\n",
              "  <th>Mood_Swings</th> <td>   -0.6333</td> <td>    0.385</td> <td>   -1.645</td> <td> 0.100</td> <td>   -1.388</td> <td>    0.121</td>\n",
              "</tr>\n",
              "</table>"
            ],
            "text/plain": [
              "<class 'statsmodels.iolib.summary.Summary'>\n",
              "\"\"\"\n",
              "                           Logit Regression Results                           \n",
              "==============================================================================\n",
              "Dep. Variable:               Employed   No. Observations:                  294\n",
              "Model:                          Logit   Df Residuals:                      292\n",
              "Method:                           MLE   Df Model:                            1\n",
              "Date:                Thu, 29 Jul 2021   Pseudo R-squ.:                0.007157\n",
              "Time:                        00:07:10   Log-Likelihood:                -182.92\n",
              "converged:                       True   LL-Null:                       -184.24\n",
              "Covariance Type:            nonrobust   LLR p-value:                    0.1044\n",
              "===============================================================================\n",
              "                  coef    std err          z      P>|z|      [0.025      0.975]\n",
              "-------------------------------------------------------------------------------\n",
              "Intercept       0.8275      0.134      6.174      0.000       0.565       1.090\n",
              "Mood_Swings    -0.6333      0.385     -1.645      0.100      -1.388       0.121\n",
              "===============================================================================\n",
              "\"\"\""
            ]
          },
          "metadata": {
            "tags": []
          },
          "execution_count": 114
        }
      ]
    },
    {
      "cell_type": "code",
      "metadata": {
        "id": "2dx8_-SeM2Dv",
        "colab": {
          "base_uri": "https://localhost:8080/",
          "height": 299
        },
        "outputId": "01153125-9970-4281-b4ce-3e38f4a79f2c"
      },
      "source": [
        "# Run logistic regression : Panic Attacks\n",
        "model = smf.logit(formula='Employed ~ Panic_Attacks', data=df).fit()\n",
        "model.summary()\n",
        "# p-value 0.006"
      ],
      "execution_count": null,
      "outputs": [
        {
          "output_type": "stream",
          "text": [
            "Optimization terminated successfully.\n",
            "         Current function value: 0.614239\n",
            "         Iterations 5\n"
          ],
          "name": "stdout"
        },
        {
          "output_type": "execute_result",
          "data": {
            "text/html": [
              "<table class=\"simpletable\">\n",
              "<caption>Logit Regression Results</caption>\n",
              "<tr>\n",
              "  <th>Dep. Variable:</th>       <td>Employed</td>     <th>  No. Observations:  </th>  <td>   294</td> \n",
              "</tr>\n",
              "<tr>\n",
              "  <th>Model:</th>                 <td>Logit</td>      <th>  Df Residuals:      </th>  <td>   292</td> \n",
              "</tr>\n",
              "<tr>\n",
              "  <th>Method:</th>                 <td>MLE</td>       <th>  Df Model:          </th>  <td>     1</td> \n",
              "</tr>\n",
              "<tr>\n",
              "  <th>Date:</th>            <td>Thu, 29 Jul 2021</td> <th>  Pseudo R-squ.:     </th>  <td>0.01983</td>\n",
              "</tr>\n",
              "<tr>\n",
              "  <th>Time:</th>                <td>00:07:11</td>     <th>  Log-Likelihood:    </th> <td> -180.59</td>\n",
              "</tr>\n",
              "<tr>\n",
              "  <th>converged:</th>             <td>True</td>       <th>  LL-Null:           </th> <td> -184.24</td>\n",
              "</tr>\n",
              "<tr>\n",
              "  <th>Covariance Type:</th>     <td>nonrobust</td>    <th>  LLR p-value:       </th> <td>0.006873</td>\n",
              "</tr>\n",
              "</table>\n",
              "<table class=\"simpletable\">\n",
              "<tr>\n",
              "        <td></td>           <th>coef</th>     <th>std err</th>      <th>z</th>      <th>P>|z|</th>  <th>[0.025</th>    <th>0.975]</th>  \n",
              "</tr>\n",
              "<tr>\n",
              "  <th>Intercept</th>     <td>    0.9051</td> <td>    0.140</td> <td>    6.481</td> <td> 0.000</td> <td>    0.631</td> <td>    1.179</td>\n",
              "</tr>\n",
              "<tr>\n",
              "  <th>Panic_Attacks</th> <td>   -0.9051</td> <td>    0.332</td> <td>   -2.724</td> <td> 0.006</td> <td>   -1.556</td> <td>   -0.254</td>\n",
              "</tr>\n",
              "</table>"
            ],
            "text/plain": [
              "<class 'statsmodels.iolib.summary.Summary'>\n",
              "\"\"\"\n",
              "                           Logit Regression Results                           \n",
              "==============================================================================\n",
              "Dep. Variable:               Employed   No. Observations:                  294\n",
              "Model:                          Logit   Df Residuals:                      292\n",
              "Method:                           MLE   Df Model:                            1\n",
              "Date:                Thu, 29 Jul 2021   Pseudo R-squ.:                 0.01983\n",
              "Time:                        00:07:11   Log-Likelihood:                -180.59\n",
              "converged:                       True   LL-Null:                       -184.24\n",
              "Covariance Type:            nonrobust   LLR p-value:                  0.006873\n",
              "=================================================================================\n",
              "                    coef    std err          z      P>|z|      [0.025      0.975]\n",
              "---------------------------------------------------------------------------------\n",
              "Intercept         0.9051      0.140      6.481      0.000       0.631       1.179\n",
              "Panic_Attacks    -0.9051      0.332     -2.724      0.006      -1.556      -0.254\n",
              "=================================================================================\n",
              "\"\"\""
            ]
          },
          "metadata": {
            "tags": []
          },
          "execution_count": 115
        }
      ]
    },
    {
      "cell_type": "code",
      "metadata": {
        "id": "uNQZ97DjM2NF",
        "colab": {
          "base_uri": "https://localhost:8080/",
          "height": 299
        },
        "outputId": "dee813fc-8747-4bf1-a32f-b794baad1900"
      },
      "source": [
        "# Run logistic regression : Compulsive Behavior\n",
        "model = smf.logit(formula='Employed ~ Compulsive_Behavior', data=df).fit()\n",
        "model.summary()\n",
        "# p-value 0.998"
      ],
      "execution_count": null,
      "outputs": [
        {
          "output_type": "stream",
          "text": [
            "Optimization terminated successfully.\n",
            "         Current function value: 0.626664\n",
            "         Iterations 4\n"
          ],
          "name": "stdout"
        },
        {
          "output_type": "execute_result",
          "data": {
            "text/html": [
              "<table class=\"simpletable\">\n",
              "<caption>Logit Regression Results</caption>\n",
              "<tr>\n",
              "  <th>Dep. Variable:</th>       <td>Employed</td>     <th>  No. Observations:  </th>  <td>   294</td>  \n",
              "</tr>\n",
              "<tr>\n",
              "  <th>Model:</th>                 <td>Logit</td>      <th>  Df Residuals:      </th>  <td>   292</td>  \n",
              "</tr>\n",
              "<tr>\n",
              "  <th>Method:</th>                 <td>MLE</td>       <th>  Df Model:          </th>  <td>     1</td>  \n",
              "</tr>\n",
              "<tr>\n",
              "  <th>Date:</th>            <td>Thu, 29 Jul 2021</td> <th>  Pseudo R-squ.:     </th> <td>2.533e-08</td>\n",
              "</tr>\n",
              "<tr>\n",
              "  <th>Time:</th>                <td>00:07:11</td>     <th>  Log-Likelihood:    </th> <td> -184.24</td> \n",
              "</tr>\n",
              "<tr>\n",
              "  <th>converged:</th>             <td>True</td>       <th>  LL-Null:           </th> <td> -184.24</td> \n",
              "</tr>\n",
              "<tr>\n",
              "  <th>Covariance Type:</th>     <td>nonrobust</td>    <th>  LLR p-value:       </th>  <td>0.9976</td>  \n",
              "</tr>\n",
              "</table>\n",
              "<table class=\"simpletable\">\n",
              "<tr>\n",
              "           <td></td>              <th>coef</th>     <th>std err</th>      <th>z</th>      <th>P>|z|</th>  <th>[0.025</th>    <th>0.975]</th>  \n",
              "</tr>\n",
              "<tr>\n",
              "  <th>Intercept</th>           <td>    0.7551</td> <td>    0.131</td> <td>    5.776</td> <td> 0.000</td> <td>    0.499</td> <td>    1.011</td>\n",
              "</tr>\n",
              "<tr>\n",
              "  <th>Compulsive_Behavior</th> <td>   -0.0014</td> <td>    0.448</td> <td>   -0.003</td> <td> 0.998</td> <td>   -0.880</td> <td>    0.877</td>\n",
              "</tr>\n",
              "</table>"
            ],
            "text/plain": [
              "<class 'statsmodels.iolib.summary.Summary'>\n",
              "\"\"\"\n",
              "                           Logit Regression Results                           \n",
              "==============================================================================\n",
              "Dep. Variable:               Employed   No. Observations:                  294\n",
              "Model:                          Logit   Df Residuals:                      292\n",
              "Method:                           MLE   Df Model:                            1\n",
              "Date:                Thu, 29 Jul 2021   Pseudo R-squ.:               2.533e-08\n",
              "Time:                        00:07:11   Log-Likelihood:                -184.24\n",
              "converged:                       True   LL-Null:                       -184.24\n",
              "Covariance Type:            nonrobust   LLR p-value:                    0.9976\n",
              "=======================================================================================\n",
              "                          coef    std err          z      P>|z|      [0.025      0.975]\n",
              "---------------------------------------------------------------------------------------\n",
              "Intercept               0.7551      0.131      5.776      0.000       0.499       1.011\n",
              "Compulsive_Behavior    -0.0014      0.448     -0.003      0.998      -0.880       0.877\n",
              "=======================================================================================\n",
              "\"\"\""
            ]
          },
          "metadata": {
            "tags": []
          },
          "execution_count": 116
        }
      ]
    },
    {
      "cell_type": "code",
      "metadata": {
        "id": "aOnidXQCM3Tj",
        "colab": {
          "base_uri": "https://localhost:8080/",
          "height": 299
        },
        "outputId": "47047dd2-3b5a-468e-be8c-3824cdc62369"
      },
      "source": [
        "# Run logistic regression : Tiredness\n",
        "model = smf.logit(formula='Employed ~ Tiredness', data=df).fit()\n",
        "model.summary()\n",
        "# p-value 0.89"
      ],
      "execution_count": null,
      "outputs": [
        {
          "output_type": "stream",
          "text": [
            "Optimization terminated successfully.\n",
            "         Current function value: 0.626632\n",
            "         Iterations 4\n"
          ],
          "name": "stdout"
        },
        {
          "output_type": "execute_result",
          "data": {
            "text/html": [
              "<table class=\"simpletable\">\n",
              "<caption>Logit Regression Results</caption>\n",
              "<tr>\n",
              "  <th>Dep. Variable:</th>       <td>Employed</td>     <th>  No. Observations:  </th>  <td>   294</td>  \n",
              "</tr>\n",
              "<tr>\n",
              "  <th>Model:</th>                 <td>Logit</td>      <th>  Df Residuals:      </th>  <td>   292</td>  \n",
              "</tr>\n",
              "<tr>\n",
              "  <th>Method:</th>                 <td>MLE</td>       <th>  Df Model:          </th>  <td>     1</td>  \n",
              "</tr>\n",
              "<tr>\n",
              "  <th>Date:</th>            <td>Thu, 29 Jul 2021</td> <th>  Pseudo R-squ.:     </th> <td>5.187e-05</td>\n",
              "</tr>\n",
              "<tr>\n",
              "  <th>Time:</th>                <td>00:07:11</td>     <th>  Log-Likelihood:    </th> <td> -184.23</td> \n",
              "</tr>\n",
              "<tr>\n",
              "  <th>converged:</th>             <td>True</td>       <th>  LL-Null:           </th> <td> -184.24</td> \n",
              "</tr>\n",
              "<tr>\n",
              "  <th>Covariance Type:</th>     <td>nonrobust</td>    <th>  LLR p-value:       </th>  <td>0.8900</td>  \n",
              "</tr>\n",
              "</table>\n",
              "<table class=\"simpletable\">\n",
              "<tr>\n",
              "      <td></td>         <th>coef</th>     <th>std err</th>      <th>z</th>      <th>P>|z|</th>  <th>[0.025</th>    <th>0.975]</th>  \n",
              "</tr>\n",
              "<tr>\n",
              "  <th>Intercept</th> <td>    0.7662</td> <td>    0.149</td> <td>    5.143</td> <td> 0.000</td> <td>    0.474</td> <td>    1.058</td>\n",
              "</tr>\n",
              "<tr>\n",
              "  <th>Tiredness</th> <td>   -0.0379</td> <td>    0.274</td> <td>   -0.138</td> <td> 0.890</td> <td>   -0.575</td> <td>    0.499</td>\n",
              "</tr>\n",
              "</table>"
            ],
            "text/plain": [
              "<class 'statsmodels.iolib.summary.Summary'>\n",
              "\"\"\"\n",
              "                           Logit Regression Results                           \n",
              "==============================================================================\n",
              "Dep. Variable:               Employed   No. Observations:                  294\n",
              "Model:                          Logit   Df Residuals:                      292\n",
              "Method:                           MLE   Df Model:                            1\n",
              "Date:                Thu, 29 Jul 2021   Pseudo R-squ.:               5.187e-05\n",
              "Time:                        00:07:11   Log-Likelihood:                -184.23\n",
              "converged:                       True   LL-Null:                       -184.24\n",
              "Covariance Type:            nonrobust   LLR p-value:                    0.8900\n",
              "==============================================================================\n",
              "                 coef    std err          z      P>|z|      [0.025      0.975]\n",
              "------------------------------------------------------------------------------\n",
              "Intercept      0.7662      0.149      5.143      0.000       0.474       1.058\n",
              "Tiredness     -0.0379      0.274     -0.138      0.890      -0.575       0.499\n",
              "==============================================================================\n",
              "\"\"\""
            ]
          },
          "metadata": {
            "tags": []
          },
          "execution_count": 117
        }
      ]
    },
    {
      "cell_type": "markdown",
      "metadata": {
        "id": "q65A17tHcPlE"
      },
      "source": [
        "Panic Attacks show to be the strongest predictor out of them all based on the p-value. Now, we will get the accuracy of this model."
      ]
    },
    {
      "cell_type": "code",
      "metadata": {
        "id": "dmHgzvsDcXhH"
      },
      "source": [
        "y = df['Employed']\n",
        "X = df['Panic_Attacks']"
      ],
      "execution_count": null,
      "outputs": []
    },
    {
      "cell_type": "code",
      "metadata": {
        "colab": {
          "base_uri": "https://localhost:8080/"
        },
        "id": "yyp0zpEncbwh",
        "outputId": "d0c55464-7615-4730-d2ea-bf10c86628e2"
      },
      "source": [
        "X.shape"
      ],
      "execution_count": null,
      "outputs": [
        {
          "output_type": "execute_result",
          "data": {
            "text/plain": [
              "(294,)"
            ]
          },
          "metadata": {
            "tags": []
          },
          "execution_count": 119
        }
      ]
    },
    {
      "cell_type": "code",
      "metadata": {
        "colab": {
          "base_uri": "https://localhost:8080/"
        },
        "id": "nQRcRjCYclMS",
        "outputId": "c9061aaa-f8c8-4e51-df05-be51f577af89"
      },
      "source": [
        "# Adjusting X for python syntax\n",
        "X = X[:,np.newaxis]\n",
        "X.shape"
      ],
      "execution_count": null,
      "outputs": [
        {
          "output_type": "stream",
          "text": [
            "/usr/local/lib/python3.7/dist-packages/ipykernel_launcher.py:2: FutureWarning: Support for multi-dimensional indexing (e.g. `obj[:, None]`) is deprecated and will be removed in a future version.  Convert to a numpy array before indexing instead.\n",
            "  \n"
          ],
          "name": "stderr"
        },
        {
          "output_type": "execute_result",
          "data": {
            "text/plain": [
              "(294, 1)"
            ]
          },
          "metadata": {
            "tags": []
          },
          "execution_count": 120
        }
      ]
    },
    {
      "cell_type": "code",
      "metadata": {
        "colab": {
          "base_uri": "https://localhost:8080/"
        },
        "id": "vxe7pkU1coUW",
        "outputId": "e24bccfc-540c-4dd8-a6bd-1f5c21868922"
      },
      "source": [
        "y.shape"
      ],
      "execution_count": null,
      "outputs": [
        {
          "output_type": "execute_result",
          "data": {
            "text/plain": [
              "(294,)"
            ]
          },
          "metadata": {
            "tags": []
          },
          "execution_count": 121
        }
      ]
    },
    {
      "cell_type": "code",
      "metadata": {
        "id": "OjNYcDJWNY5-",
        "colab": {
          "base_uri": "https://localhost:8080/"
        },
        "outputId": "d9289c4a-e2c8-4f11-9c3a-bebc3b606dbb"
      },
      "source": [
        "# Split data for training and testing sets split by 20/80\n",
        "X_train, X_test, y_train, y_test = train_test_split(X, y, test_size=0.2)\n",
        "print(X_train.shape, y_train.shape)\n",
        "print(X_test.shape, y_test.shape)"
      ],
      "execution_count": null,
      "outputs": [
        {
          "output_type": "stream",
          "text": [
            "(235, 1) (235,)\n",
            "(59, 1) (59,)\n"
          ],
          "name": "stdout"
        }
      ]
    },
    {
      "cell_type": "code",
      "metadata": {
        "id": "fNWOzSwJNUg0",
        "colab": {
          "base_uri": "https://localhost:8080/"
        },
        "outputId": "038ebdd0-2fe5-4158-fc74-d3e645b93d02"
      },
      "source": [
        "# Fit a model using sklearn logistic regression\n",
        "logreg = LogisticRegression()\n",
        "model = logreg.fit(X_train, y_train)\n",
        "y_pred = logreg.predict(X_test)\n",
        "\n",
        "# printing the mean accuracy on the given test data using score()\n",
        "print('Accuracy of logistic regression classifier on test set: {:.2f}'.format(logreg.score(X_test, y_test)))"
      ],
      "execution_count": null,
      "outputs": [
        {
          "output_type": "stream",
          "text": [
            "Accuracy of logistic regression classifier on test set: 0.66\n"
          ],
          "name": "stdout"
        }
      ]
    },
    {
      "cell_type": "markdown",
      "metadata": {
        "id": "Kc5MFwx3cxsu"
      },
      "source": [
        "### second method: subset selection"
      ]
    },
    {
      "cell_type": "code",
      "metadata": {
        "id": "TYxU2hR4czfI"
      },
      "source": [
        "# Import libraries\n",
        "\n",
        "import itertools\n",
        "import time\n",
        "import numpy as np\n",
        "import pandas as pd\n",
        "import seaborn as sns\n",
        "import statsmodels.api as sm\n",
        "import matplotlib.pyplot as plt\n",
        "from sklearn import linear_model\n",
        "from sklearn.metrics import mean_squared_error\n",
        "\n",
        "%matplotlib inline\n",
        "plt.style.use('ggplot')"
      ],
      "execution_count": null,
      "outputs": []
    },
    {
      "cell_type": "code",
      "metadata": {
        "id": "z6MS36pPc0p6"
      },
      "source": [
        "# Function to get MSE and R squared values\n",
        "def fit_linear_reg(X,Y):\n",
        "    # Fit linear regression model and return RSS and R squared values\n",
        "    model_k = linear_model.LinearRegression(fit_intercept = True)\n",
        "    model_k.fit(X,Y)\n",
        "    MSE = mean_squared_error(Y,model_k.predict(X)) * 1/len(Y)\n",
        "    R_squared = model_k.score(X,Y)\n",
        "    return MSE, R_squared"
      ],
      "execution_count": null,
      "outputs": []
    },
    {
      "cell_type": "code",
      "metadata": {
        "id": "035GoEbmc0sa"
      },
      "source": [
        "# Take all the predictors and put them in a single dataframe\n",
        "newDf = df[['LackofConcentration', \n",
        "           'Anxiety', \n",
        "           'Depression', \n",
        "           'Obsessive_Thinking', \n",
        "           'Mood_Swings', \n",
        "           'Panic_Attacks', \n",
        "           'Compulsive_Behavior', \n",
        "           'Tiredness']]"
      ],
      "execution_count": null,
      "outputs": []
    },
    {
      "cell_type": "code",
      "metadata": {
        "id": "EprMN_2Ec0ul",
        "colab": {
          "base_uri": "https://localhost:8080/",
          "height": 100,
          "referenced_widgets": [
            "0b97d1aa32be4d15b4e1b877579ef349",
            "93dea66aad044427b18c03e7938840e4",
            "ab7b98acfbb04be4b7c7d566ce9774b3",
            "cbc3f78307fe444bb58c5bbe37b0dd0f",
            "daee5a59ea2546c5a0e869af462b38b2",
            "a53098176e22428eb151ef21def77a30",
            "eb0134a61210465ea239f217df8de611",
            "8ad0b29384d4440695104aa346d88760"
          ]
        },
        "outputId": "16d736ef-c17e-459c-ca57-45b3f975d54c"
      },
      "source": [
        "# Best Subset Selection Method \n",
        "\n",
        "#Importing tqdm for the progress bar\n",
        "from tqdm import tnrange, tqdm_notebook\n",
        "\n",
        "#Initialization variables\n",
        "Y = df['Employed']\n",
        "X = newDf\n",
        "k = 8\n",
        "MSE_list, R_squared_list, feature_list = [],[], []\n",
        "numb_features = []\n",
        "\n",
        "#Looping over k = 1 to k = 8 features in X\n",
        "for k in tnrange(1,len(X.columns) + 1, desc = 'Loop...'):\n",
        "\n",
        "    #Looping over all possible combinations: from 8 choose k\n",
        "    for combo in itertools.combinations(X.columns,k):\n",
        "        tmp_result = fit_linear_reg(X[list(combo)],Y)   #Store temp result \n",
        "        MSE_list.append(tmp_result[0])                  #Append lists\n",
        "        R_squared_list.append(tmp_result[1])\n",
        "        feature_list.append(combo)\n",
        "        numb_features.append(len(combo))   \n",
        "\n",
        "#Store in DataFrame\n",
        "bestSubset = pd.DataFrame({'numb_features': numb_features,'MSE': MSE_list, 'R_squared':R_squared_list,'features':feature_list})"
      ],
      "execution_count": null,
      "outputs": [
        {
          "output_type": "stream",
          "text": [
            "/usr/local/lib/python3.7/dist-packages/ipykernel_launcher.py:14: TqdmDeprecationWarning: Please use `tqdm.notebook.trange` instead of `tqdm.tnrange`\n",
            "  \n"
          ],
          "name": "stderr"
        },
        {
          "output_type": "display_data",
          "data": {
            "application/vnd.jupyter.widget-view+json": {
              "model_id": "0b97d1aa32be4d15b4e1b877579ef349",
              "version_minor": 0,
              "version_major": 2
            },
            "text/plain": [
              "HBox(children=(FloatProgress(value=0.0, description='Loop...', max=8.0, style=ProgressStyle(description_width=…"
            ]
          },
          "metadata": {
            "tags": []
          }
        },
        {
          "output_type": "stream",
          "text": [
            "\n"
          ],
          "name": "stdout"
        }
      ]
    },
    {
      "cell_type": "code",
      "metadata": {
        "colab": {
          "base_uri": "https://localhost:8080/",
          "height": 204
        },
        "id": "xCF52LaNht2I",
        "outputId": "d3466fd2-ce15-4bc9-e874-31b313969272"
      },
      "source": [
        "bestSubset.head()"
      ],
      "execution_count": null,
      "outputs": [
        {
          "output_type": "execute_result",
          "data": {
            "text/html": [
              "<div>\n",
              "<style scoped>\n",
              "    .dataframe tbody tr th:only-of-type {\n",
              "        vertical-align: middle;\n",
              "    }\n",
              "\n",
              "    .dataframe tbody tr th {\n",
              "        vertical-align: top;\n",
              "    }\n",
              "\n",
              "    .dataframe thead th {\n",
              "        text-align: right;\n",
              "    }\n",
              "</style>\n",
              "<table border=\"1\" class=\"dataframe\">\n",
              "  <thead>\n",
              "    <tr style=\"text-align: right;\">\n",
              "      <th></th>\n",
              "      <th>numb_features</th>\n",
              "      <th>MSE</th>\n",
              "      <th>R_squared</th>\n",
              "      <th>features</th>\n",
              "    </tr>\n",
              "  </thead>\n",
              "  <tbody>\n",
              "    <tr>\n",
              "      <th>0</th>\n",
              "      <td>1</td>\n",
              "      <td>0.000738</td>\n",
              "      <td>0.002160</td>\n",
              "      <td>(LackofConcentration,)</td>\n",
              "    </tr>\n",
              "    <tr>\n",
              "      <th>1</th>\n",
              "      <td>1</td>\n",
              "      <td>0.000733</td>\n",
              "      <td>0.009702</td>\n",
              "      <td>(Anxiety,)</td>\n",
              "    </tr>\n",
              "    <tr>\n",
              "      <th>2</th>\n",
              "      <td>1</td>\n",
              "      <td>0.000734</td>\n",
              "      <td>0.007967</td>\n",
              "      <td>(Depression,)</td>\n",
              "    </tr>\n",
              "    <tr>\n",
              "      <th>3</th>\n",
              "      <td>1</td>\n",
              "      <td>0.000735</td>\n",
              "      <td>0.007007</td>\n",
              "      <td>(Obsessive_Thinking,)</td>\n",
              "    </tr>\n",
              "    <tr>\n",
              "      <th>4</th>\n",
              "      <td>1</td>\n",
              "      <td>0.000733</td>\n",
              "      <td>0.009426</td>\n",
              "      <td>(Mood_Swings,)</td>\n",
              "    </tr>\n",
              "  </tbody>\n",
              "</table>\n",
              "</div>"
            ],
            "text/plain": [
              "   numb_features       MSE  R_squared                features\n",
              "0              1  0.000738   0.002160  (LackofConcentration,)\n",
              "1              1  0.000733   0.009702              (Anxiety,)\n",
              "2              1  0.000734   0.007967           (Depression,)\n",
              "3              1  0.000735   0.007007   (Obsessive_Thinking,)\n",
              "4              1  0.000733   0.009426          (Mood_Swings,)"
            ]
          },
          "metadata": {
            "tags": []
          },
          "execution_count": 128
        }
      ]
    },
    {
      "cell_type": "code",
      "metadata": {
        "id": "KXE4YxijhwOg"
      },
      "source": [
        "# Showing what the lowest MSE is and the highest R^2\n",
        "bestSubset['min_MSE'] = bestSubset.groupby('numb_features')['MSE'].transform(min)\n",
        "bestSubset['max_R_squared'] = bestSubset.groupby('numb_features')['R_squared'].transform(max)\n",
        "\n",
        "# lowest RSS and highest R^2 = best model \n",
        "# lowest test set mean squared error / MSE = 1/N (RSS)"
      ],
      "execution_count": null,
      "outputs": []
    },
    {
      "cell_type": "code",
      "metadata": {
        "colab": {
          "base_uri": "https://localhost:8080/",
          "height": 408
        },
        "id": "AeuuMjNdlEpd",
        "outputId": "d9665b8b-369d-4b77-f301-3e0d784f35ec"
      },
      "source": [
        "fig = plt.figure(figsize = (16,6))\n",
        "ax = fig.add_subplot(1, 2, 1)\n",
        "\n",
        "ax.scatter(bestSubset.numb_features,bestSubset.MSE, alpha = .2, color = 'darkblue' )\n",
        "ax.set_xlabel('# Features')\n",
        "ax.set_ylabel('MSE')\n",
        "ax.set_title('MSE - Best subset selection')\n",
        "ax.plot(bestSubset.numb_features,bestSubset.min_MSE,color = 'r', label = 'Best subset')\n",
        "ax.legend()\n",
        "\n",
        "ax = fig.add_subplot(1, 2, 2)\n",
        "ax.scatter(bestSubset.numb_features,bestSubset.R_squared, alpha = .2, color = 'darkblue' )\n",
        "ax.plot(bestSubset.numb_features,bestSubset.max_R_squared,color = 'r', label = 'Best subset')\n",
        "ax.set_xlabel('# Features')\n",
        "ax.set_ylabel('R squared')\n",
        "ax.set_title('R_squared - Best subset selection')\n",
        "ax.legend()\n",
        "\n",
        "plt.show()"
      ],
      "execution_count": null,
      "outputs": [
        {
          "output_type": "display_data",
          "data": {
            "image/png": "[encoded data removed]",
            "text/plain": [
              "<Figure size 1152x432 with 2 Axes>"
            ]
          },
          "metadata": {
            "tags": []
          }
        }
      ]
    },
    {
      "cell_type": "code",
      "metadata": {
        "colab": {
          "base_uri": "https://localhost:8080/",
          "height": 446
        },
        "id": "enLx_wFXlGps",
        "outputId": "b05a578e-8522-4e9e-b5f0-002f6b322f88"
      },
      "source": [
        "model = smf.logit(formula='Employed ~ Anxiety + Panic_Attacks + Mood_Swings + Depression + Obsessive_Thinking + LackofConcentration + Compulsive_Behavior + Tiredness', data=df).fit()\n",
        "model.summary()\n",
        "\n",
        "# 1 unit increase in panic attacks --> 0.92 unit decrease in employment \n",
        "# model explains 3% of the variability "
      ],
      "execution_count": null,
      "outputs": [
        {
          "output_type": "stream",
          "text": [
            "Optimization terminated successfully.\n",
            "         Current function value: 0.607629\n",
            "         Iterations 5\n"
          ],
          "name": "stdout"
        },
        {
          "output_type": "execute_result",
          "data": {
            "text/html": [
              "<table class=\"simpletable\">\n",
              "<caption>Logit Regression Results</caption>\n",
              "<tr>\n",
              "  <th>Dep. Variable:</th>       <td>Employed</td>     <th>  No. Observations:  </th>  <td>   294</td> \n",
              "</tr>\n",
              "<tr>\n",
              "  <th>Model:</th>                 <td>Logit</td>      <th>  Df Residuals:      </th>  <td>   285</td> \n",
              "</tr>\n",
              "<tr>\n",
              "  <th>Method:</th>                 <td>MLE</td>       <th>  Df Model:          </th>  <td>     8</td> \n",
              "</tr>\n",
              "<tr>\n",
              "  <th>Date:</th>            <td>Thu, 29 Jul 2021</td> <th>  Pseudo R-squ.:     </th>  <td>0.03037</td>\n",
              "</tr>\n",
              "<tr>\n",
              "  <th>Time:</th>                <td>00:07:13</td>     <th>  Log-Likelihood:    </th> <td> -178.64</td>\n",
              "</tr>\n",
              "<tr>\n",
              "  <th>converged:</th>             <td>True</td>       <th>  LL-Null:           </th> <td> -184.24</td>\n",
              "</tr>\n",
              "<tr>\n",
              "  <th>Covariance Type:</th>     <td>nonrobust</td>    <th>  LLR p-value:       </th>  <td>0.1910</td> \n",
              "</tr>\n",
              "</table>\n",
              "<table class=\"simpletable\">\n",
              "<tr>\n",
              "           <td></td>              <th>coef</th>     <th>std err</th>      <th>z</th>      <th>P>|z|</th>  <th>[0.025</th>    <th>0.975]</th>  \n",
              "</tr>\n",
              "<tr>\n",
              "  <th>Intercept</th>           <td>    0.9019</td> <td>    0.169</td> <td>    5.335</td> <td> 0.000</td> <td>    0.571</td> <td>    1.233</td>\n",
              "</tr>\n",
              "<tr>\n",
              "  <th>Anxiety</th>             <td>   -0.0615</td> <td>    0.365</td> <td>   -0.168</td> <td> 0.866</td> <td>   -0.777</td> <td>    0.654</td>\n",
              "</tr>\n",
              "<tr>\n",
              "  <th>Panic_Attacks</th>       <td>   -0.9213</td> <td>    0.432</td> <td>   -2.135</td> <td> 0.033</td> <td>   -1.767</td> <td>   -0.075</td>\n",
              "</tr>\n",
              "<tr>\n",
              "  <th>Mood_Swings</th>         <td>   -0.4577</td> <td>    0.491</td> <td>   -0.932</td> <td> 0.352</td> <td>   -1.421</td> <td>    0.505</td>\n",
              "</tr>\n",
              "<tr>\n",
              "  <th>Depression</th>          <td>   -0.0418</td> <td>    0.386</td> <td>   -0.108</td> <td> 0.914</td> <td>   -0.798</td> <td>    0.714</td>\n",
              "</tr>\n",
              "<tr>\n",
              "  <th>Obsessive_Thinking</th>  <td>   -0.3702</td> <td>    0.516</td> <td>   -0.718</td> <td> 0.473</td> <td>   -1.381</td> <td>    0.640</td>\n",
              "</tr>\n",
              "<tr>\n",
              "  <th>LackofConcentration</th> <td>   -0.0285</td> <td>    0.428</td> <td>   -0.067</td> <td> 0.947</td> <td>   -0.867</td> <td>    0.810</td>\n",
              "</tr>\n",
              "<tr>\n",
              "  <th>Compulsive_Behavior</th> <td>    1.0416</td> <td>    0.629</td> <td>    1.655</td> <td> 0.098</td> <td>   -0.192</td> <td>    2.275</td>\n",
              "</tr>\n",
              "<tr>\n",
              "  <th>Tiredness</th>           <td>    0.1857</td> <td>    0.312</td> <td>    0.595</td> <td> 0.552</td> <td>   -0.425</td> <td>    0.797</td>\n",
              "</tr>\n",
              "</table>"
            ],
            "text/plain": [
              "<class 'statsmodels.iolib.summary.Summary'>\n",
              "\"\"\"\n",
              "                           Logit Regression Results                           \n",
              "==============================================================================\n",
              "Dep. Variable:               Employed   No. Observations:                  294\n",
              "Model:                          Logit   Df Residuals:                      285\n",
              "Method:                           MLE   Df Model:                            8\n",
              "Date:                Thu, 29 Jul 2021   Pseudo R-squ.:                 0.03037\n",
              "Time:                        00:07:13   Log-Likelihood:                -178.64\n",
              "converged:                       True   LL-Null:                       -184.24\n",
              "Covariance Type:            nonrobust   LLR p-value:                    0.1910\n",
              "=======================================================================================\n",
              "                          coef    std err          z      P>|z|      [0.025      0.975]\n",
              "---------------------------------------------------------------------------------------\n",
              "Intercept               0.9019      0.169      5.335      0.000       0.571       1.233\n",
              "Anxiety                -0.0615      0.365     -0.168      0.866      -0.777       0.654\n",
              "Panic_Attacks          -0.9213      0.432     -2.135      0.033      -1.767      -0.075\n",
              "Mood_Swings            -0.4577      0.491     -0.932      0.352      -1.421       0.505\n",
              "Depression             -0.0418      0.386     -0.108      0.914      -0.798       0.714\n",
              "Obsessive_Thinking     -0.3702      0.516     -0.718      0.473      -1.381       0.640\n",
              "LackofConcentration    -0.0285      0.428     -0.067      0.947      -0.867       0.810\n",
              "Compulsive_Behavior     1.0416      0.629      1.655      0.098      -0.192       2.275\n",
              "Tiredness               0.1857      0.312      0.595      0.552      -0.425       0.797\n",
              "=======================================================================================\n",
              "\"\"\""
            ]
          },
          "metadata": {
            "tags": []
          },
          "execution_count": 131
        }
      ]
    },
    {
      "cell_type": "code",
      "metadata": {
        "id": "n4kJUwXElIl2"
      },
      "source": [
        "def sigmoid(z):\n",
        "    return np.exp(z) / (1 + np.exp(z))"
      ],
      "execution_count": null,
      "outputs": []
    },
    {
      "cell_type": "code",
      "metadata": {
        "colab": {
          "base_uri": "https://localhost:8080/"
        },
        "id": "aWkil7b1lJc5",
        "outputId": "b6af81e8-c01d-4f9c-e739-8c385849b92a"
      },
      "source": [
        "# Calculating log odds ratio using beta coefficients \n",
        "B0 = 0.9019\n",
        "B1 = -0.9213\n",
        "X1 = 1    # Panic Attack\n",
        "\n",
        "z = B0 + (B1*X1)\n",
        "print('Probabiliy of being unemployed with %1.2f symptoms of panic attack is %3.2f percent'\n",
        "      % (X1, sigmoid(z)*100))"
      ],
      "execution_count": null,
      "outputs": [
        {
          "output_type": "stream",
          "text": [
            "Probabiliy of being unemployed with 1.00 symptoms of panic attack is 49.52 percent\n"
          ],
          "name": "stdout"
        }
      ]
    },
    {
      "cell_type": "code",
      "metadata": {
        "id": "EbpWTppNhyi_"
      },
      "source": [
        "# Import libaries to calculate accuracy\n",
        "\n",
        "from sklearn.ensemble import RandomForestClassifier\n",
        "from sklearn.metrics import accuracy_score as acc"
      ],
      "execution_count": null,
      "outputs": []
    },
    {
      "cell_type": "code",
      "metadata": {
        "colab": {
          "base_uri": "https://localhost:8080/"
        },
        "id": "3Q_Jttbyhz_l",
        "outputId": "3c995f6d-b211-44a0-e78f-e893bd5661bc"
      },
      "source": [
        "# evaluate a logistic regression model using k-fold cross-validation\n",
        "from numpy import mean\n",
        "from numpy import std\n",
        "from sklearn.datasets import make_classification\n",
        "from sklearn.model_selection import KFold\n",
        "from sklearn.model_selection import cross_val_score\n",
        "from sklearn.linear_model import LogisticRegression\n",
        "\n",
        "# Build full model on ALL features, for comparison\n",
        "\n",
        "# prepare the cross-validation procedure\n",
        "cv = KFold(n_splits=5, random_state=1, shuffle=True)\n",
        "# create model\n",
        "model = RandomForestClassifier(n_estimators=8)\n",
        "# evaluate model\n",
        "scores = cross_val_score(model, X_test, y_test, scoring='accuracy', cv=cv, n_jobs=-1)\n",
        "# report performance\n",
        "print('Accuracy: %.3f' % (mean(scores)))"
      ],
      "execution_count": null,
      "outputs": [
        {
          "output_type": "stream",
          "text": [
            "Accuracy: 0.709\n"
          ],
          "name": "stdout"
        }
      ]
    }
  ]
}